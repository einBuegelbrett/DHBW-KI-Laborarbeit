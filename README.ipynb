{
 "cells": [
  {
   "metadata": {},
   "cell_type": "markdown",
   "source": [
    "# Laborarbeit Künstliche Intelligenz\n",
    "\n",
    "## Gruppe\n",
    "- Aziz Carducci (1965015)\n",
    "- Sven Sendke (8469950)\n",
    "\n",
    "## Aufgabenstellung\n",
    "Die Aufgabe besteht darin, ein Bayes-Netz und eine Evidenztheorie für die Bewertung von Wohnungen zu erstellen und diese dann zu vergleichen.\n",
    "- Aufgabenstellung: **PE_2** (Bayes Netze und Evidenztheorie)\n",
    "- Datensätze: **PE_2_1** (Wohnungen_1.csv, Wohnungen_2.csv)\n",
    "\n",
    "## Vorgehensweise\n",
    "In den Jupyter Notebooks werden die Schritte und Ergebnisse dokumentiert. Die Notebooks sind unter den Ornern `notebook/wohnungen_1` und `notebook/wohnungen_2` zu finden. Diese sind folgendermaßen aufgeteilt:\n",
    "- bayes_netze_wohnungen_{1 oder 2}.ipynb: Stellt Aufgabenteil 1 dar, in dem ein KI Modell auf Basis eines Bayes-Netz erstellt wird.\n",
    "- evidenztheorie_wohnungen_{1 oder 2}.ipynb: Stellt Aufgabenteil 2 dar, in dem ein KI Modell auf Basis der Evidenztheorie erstellt wird.\n",
    "- vergleich:wohnungen_{1 oder 2}.ipynb: Stellt Aufgabenteil 3 dar, in dem die beiden KI Modelle verglichen werden.\n",
    "\n",
    "Zusätlich wurde eine pyton package `data_cleaning` erstellt, die die Datenbereinigungsfunktionen enthält. Es wurde diese erstellt, denn die Datenbereinigungsfunktionen werden in den verschiedenen Notebooks mehrmals verwendet. Die Funktionen sind in der Datei `data_cleaning/data_cleaning.py` zu finden."
   ],
   "id": "93ff978feed8346f"
  }
 ],
 "metadata": {
  "kernelspec": {
   "display_name": "Python 3",
   "language": "python",
   "name": "python3"
  },
  "language_info": {
   "codemirror_mode": {
    "name": "ipython",
    "version": 2
   },
   "file_extension": ".py",
   "mimetype": "text/x-python",
   "name": "python",
   "nbconvert_exporter": "python",
   "pygments_lexer": "ipython2",
   "version": "2.7.6"
  }
 },
 "nbformat": 4,
 "nbformat_minor": 5
}
