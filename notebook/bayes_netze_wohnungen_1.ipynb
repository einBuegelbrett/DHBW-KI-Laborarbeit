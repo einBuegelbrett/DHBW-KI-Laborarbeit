{
 "cells": [
  {
   "metadata": {
    "ExecuteTime": {
     "end_time": "2024-12-18T10:58:35.799153Z",
     "start_time": "2024-12-18T10:58:33.522006Z"
    }
   },
   "cell_type": "code",
   "source": [
    "import pandas as pd\n",
    "from pgmpy.models import BayesianNetwork\n",
    "from pgmpy.estimators import MaximumLikelihoodEstimator\n",
    "from pgmpy.inference import VariableElimination"
   ],
   "id": "6f1ef128f362153a",
   "outputs": [
    {
     "name": "stderr",
     "output_type": "stream",
     "text": [
      "/home/sven/dev/DHBW-KI-Laborarbeit/.venv/lib/python3.12/site-packages/tqdm/auto.py:21: TqdmWarning: IProgress not found. Please update jupyter and ipywidgets. See https://ipywidgets.readthedocs.io/en/stable/user_install.html\n",
      "  from .autonotebook import tqdm as notebook_tqdm\n"
     ]
    }
   ],
   "execution_count": 1
  },
  {
   "metadata": {
    "ExecuteTime": {
     "end_time": "2024-12-18T10:58:37.717731Z",
     "start_time": "2024-12-18T10:58:37.676076Z"
    }
   },
   "cell_type": "code",
   "source": [
    "from data_cleaning.data_cleaning import get_zimmer, get_stockwerk, get_heizung, get_kindergarten, get_schule, get_bahn, get_miete, get_nebenkosten, get_alter, get_lage, get_kaution, get_kueche, get_bad, get_mobliert, get_quadratmeter\n",
    "\n",
    "file_path = '../data/Wohnungen_1.csv'  # Gegebenen Datensatz einlesen\n",
    "data = pd.read_csv(file_path, sep=';')\n",
    "\n",
    "# Bewohnerkategorie bestimmen\n",
    "resident_columns = ['Studierende', 'Kleinfamilie', 'DINK', 'Alleinerziehende', 'Expatriate', 'Rentnerpaar']\n",
    "data['Bewohnerkategorie'] = data[resident_columns].apply(lambda row: 'Keine' if all(row == 'nein') else row.idxmax(), axis=1)\n",
    "\n",
    "# Bereinigung der Daten\n",
    "data = data[data['Bewohnerkategorie'] != 'Keine']\n",
    "\n",
    "# Spalten, in denen \"nein\" durch 0 und \"ja\" durch 1 ersetzt werden sollen\n",
    "columns_to_replace = ['Hausmeister', 'Garage', 'Aufzug', 'Balkon', 'Terrasse', \"Kehrwoche\", \"Studierende\", \"Kleinfamilie\", \"DINK\", \"Alleinerziehende\", \"Expatriate\", \"Rentnerpaar\"]\n",
    "\n",
    "# Ersetze \"nein\" und \"ja\" in den angegebenen Spalten\n",
    "data[columns_to_replace] = data[columns_to_replace].replace({'nein': 0, 'ja': 1})\n",
    "\n",
    "data['Zimmerzahl'] = data['Zimmerzahl'].apply(get_zimmer)\n",
    "data['Stockwerk'] = data['Stockwerk'].apply(get_stockwerk)\n",
    "data['Heizung'] = data['Heizung'].apply(get_heizung)\n",
    "data['Kindergarten'] = data['Kindergarten'].apply(get_kindergarten)\n",
    "data['Schule'] = data['Schule'].apply(get_schule)\n",
    "data['S-Bahn'] = data['S-Bahn'].apply(get_bahn)\n",
    "data['Miete'] = data['Miete'].apply(get_miete)\n",
    "data['Nebenkosten'] = data['Nebenkosten'].apply(get_nebenkosten)\n",
    "data['Alter'] = data['Alter'].apply(get_alter)\n",
    "data['Lage'] = data['Lage'].apply(get_lage)\n",
    "data['Kaution'] = data['Kaution'].apply(get_kaution)\n",
    "data['Kueche'] = data['Kueche'].apply(get_kueche)\n",
    "data['Bad'] = data['Bad'].apply(get_bad)\n",
    "data['Moebliert'] = data['Moebliert'].apply(get_mobliert)\n",
    "data['Quadratmeter'] = data['Quadratmeter'].apply(get_quadratmeter)\n",
    "\n",
    "print(data.head())"
   ],
   "id": "2f42bf03eb73f939",
   "outputs": [
    {
     "name": "stdout",
     "output_type": "stream",
     "text": [
      "    Zimmerzahl  Stockwerk  Heizung  Hausmeister  Kindergarten  Schule  S-Bahn  \\\n",
      "11           2          0        0            0             1       2       4   \n",
      "13           2          0        5            0             2       2       3   \n",
      "23           2          1        4            1             1       2       4   \n",
      "27           0          0        1            0             1       0       0   \n",
      "40           0          8        5            0             0       2       2   \n",
      "\n",
      "    Garage  Miete  Nebenkosten  ...  Kehrwoche  Moebliert  Quadratmeter  \\\n",
      "11       0    726          276  ...          0          0           116   \n",
      "13       1    726          226  ...          0          0           106   \n",
      "23       0    776          276  ...          0          0           116   \n",
      "27       0    226           50  ...          0          0            25   \n",
      "40       0    226           50  ...          0          0            36   \n",
      "\n",
      "    Studierende  Kleinfamilie  DINK  Alleinerziehende  Expatriate  \\\n",
      "11            0             1     0                 0           0   \n",
      "13            0             1     0                 0           0   \n",
      "23            0             1     0                 0           0   \n",
      "27            1             0     0                 0           0   \n",
      "40            1             0     0                 0           0   \n",
      "\n",
      "    Rentnerpaar  Bewohnerkategorie  \n",
      "11            0        Studierende  \n",
      "13            0        Studierende  \n",
      "23            0        Studierende  \n",
      "27            0       Kleinfamilie  \n",
      "40            0       Kleinfamilie  \n",
      "\n",
      "[5 rows x 28 columns]\n"
     ]
    },
    {
     "name": "stderr",
     "output_type": "stream",
     "text": [
      "/tmp/ipykernel_2342/1856597896.py:17: FutureWarning: Downcasting behavior in `replace` is deprecated and will be removed in a future version. To retain the old behavior, explicitly call `result.infer_objects(copy=False)`. To opt-in to the future behavior, set `pd.set_option('future.no_silent_downcasting', True)`\n",
      "  data[columns_to_replace] = data[columns_to_replace].replace({'nein': 0, 'ja': 1})\n"
     ]
    }
   ],
   "execution_count": 2
  },
  {
   "cell_type": "code",
   "id": "initial_id",
   "metadata": {
    "collapsed": true,
    "ExecuteTime": {
     "end_time": "2024-12-18T10:59:21.214972Z",
     "start_time": "2024-12-18T10:59:21.202206Z"
    }
   },
   "source": [
    "# data['Wohnlage'] = data[['Lage', 'S-Bahn']].mean(axis=1)\n",
    "# data['Wohnkomfort'] = data[['Balkon', 'Terrasse', 'Aufzug', 'Kueche', 'Bad', 'Garage', 'Moebliert', 'Alter']].mean(axis=1)\n",
    "# data['Wohnkosten'] = data[['Miete', 'Nebenkosten', 'Kaution']].mean(axis=1)\n",
    "# data['Bildung'] = data[['Kindergarten', 'Schule']].mean(axis=1)\n",
    "# data['Raum'] = data[['Zimmerzahl', 'Stockwerk', 'Heizung']].mean(axis=1)\n",
    "\n",
    "\n",
    "model = BayesianNetwork([\n",
    "    ('Zimmerzahl', 'Bewohnerkategorie'),\n",
    "    ('Stockwerk', 'Bewohnerkategorie'),\n",
    "    ('Heizung', 'Bewohnerkategorie'),\n",
    "    ('Hausmeister', 'Bewohnerkategorie'),\n",
    "    ('Kindergarten', 'Bewohnerkategorie'),\n",
    "    ('Schule', 'Bewohnerkategorie'),\n",
    "    ('S-Bahn', 'Bewohnerkategorie'),\n",
    "    ('Garage', 'Bewohnerkategorie'),\n",
    "    ('Miete', 'Bewohnerkategorie'),\n",
    "    ('Nebenkosten', 'Bewohnerkategorie'),\n",
    "    ('Alter', 'Bewohnerkategorie'),\n",
    "    ('Aufzug', 'Bewohnerkategorie'),\n",
    "    ('Lage', 'Bewohnerkategorie'),\n",
    "    ('Kaution', 'Bewohnerkategorie'),\n",
    "    ('Kueche', 'Bewohnerkategorie'),\n",
    "    ('Bad', 'Bewohnerkategorie'),\n",
    "    ('Balkon', 'Bewohnerkategorie'),\n",
    "    ('Terrasse', 'Bewohnerkategorie'),\n",
    "    ('Kehrwoche', 'Bewohnerkategorie'),\n",
    "    ('Moebliert', 'Bewohnerkategorie'),\n",
    "    ('Quadratmeter', 'Bewohnerkategorie'),\n",
    "    # ('Wohnlage', 'Bewohnerkategorie'),\n",
    "    # ('Wohnkomfort', 'Bewohnerkategorie'),\n",
    "    # ('Wohnkosten', 'Bewohnerkategorie'),\n",
    "    # ('Bildung', 'Bewohnerkategorie'),\n",
    "    # ('Raum', 'Bewohnerkategorie'),\n",
    "])\n",
    "\n",
    "# Schritt 4: Training des Bayes-Netzes\n",
    "model.fit(data, estimator=MaximumLikelihoodEstimator)\n"
   ],
   "outputs": [],
   "execution_count": 5
  },
  {
   "metadata": {
    "ExecuteTime": {
     "end_time": "2024-12-18T11:00:29.936329Z",
     "start_time": "2024-12-18T11:00:29.926451Z"
    }
   },
   "cell_type": "code",
   "source": [
    "# Schritt 5: Inferenz durchführen\n",
    "inference = VariableElimination(model)\n",
    "\n",
    "# Beispiel-Eingabe: Teilweise bekannte Daten\n",
    "example_input = {\n",
    "    \"Quadratmeter\": 100,\n",
    "    \"Lage\": 1,\n",
    "}\n",
    "\n",
    "# Wahrscheinlichkeiten für jede Zielklasse berechnen\n",
    "prediction = inference.map_query(variables=[\"Bewohnerkategorie\"], evidence=example_input)\n",
    "\n",
    "\n",
    "print(\"Klassifikationsergebnis:\")\n",
    "print(prediction)"
   ],
   "id": "56996f2176ec9065",
   "outputs": [
    {
     "name": "stderr",
     "output_type": "stream",
     "text": [
      "WARNING:pgmpy:Found unknown state name. Trying to switch to using all state names as state numbers\n",
      "WARNING:pgmpy:Found unknown state name. Trying to switch to using all state names as state numbers\n",
      "Finding Elimination Order: : 100%|██████████| 3/3 [00:00<00:00, 6156.02it/s]\n",
      "Eliminating: Terrasse: 100%|██████████| 3/3 [00:00<00:00, 3560.53it/s]"
     ]
    },
    {
     "name": "stdout",
     "output_type": "stream",
     "text": [
      "Klassifikationsergebnis:\n",
      "{'Bewohnerkategorie': 'Studierende'}\n"
     ]
    },
    {
     "name": "stderr",
     "output_type": "stream",
     "text": [
      "\n"
     ]
    }
   ],
   "execution_count": 13
  }
 ],
 "metadata": {
  "kernelspec": {
   "display_name": "Python 3",
   "language": "python",
   "name": "python3"
  },
  "language_info": {
   "codemirror_mode": {
    "name": "ipython",
    "version": 2
   },
   "file_extension": ".py",
   "mimetype": "text/x-python",
   "name": "python",
   "nbconvert_exporter": "python",
   "pygments_lexer": "ipython2",
   "version": "2.7.6"
  }
 },
 "nbformat": 4,
 "nbformat_minor": 5
}
