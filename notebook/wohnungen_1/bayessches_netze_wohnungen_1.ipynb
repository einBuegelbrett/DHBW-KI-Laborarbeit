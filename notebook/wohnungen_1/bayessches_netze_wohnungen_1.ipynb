{
 "cells": [
  {
   "metadata": {},
   "cell_type": "markdown",
   "source": [
    "# Bayes'sches-Netz zur Klassifikation von Wohnungsbewohnerkategorien (Datensatz \"wohnungen_1.csv\")\n",
    "Dieses Notebook stellt ein Modell auf Basis eines Bayes'schen-Netzes vor, das verwendet wird, um die Bewohnerkategorie einer Wohnung basierend auf den Merkmalen der Wohnung zu klassifizieren.\n",
    "\n",
    "## Ziel\n",
    "Das Ziel dieses Projekts ist es, die Zusammenhänge zwischen den Eigenschaften einer Wohnung und den Bewohnerkategorien zu modellieren. Wir verwenden ein Bayes'sches-Netz, um Wahrscheinlichkeiten vorherzusagen, auch wenn einige Informationen unvollständig sind.\n",
    "\n",
    "---\n",
    "\n",
    "## Vorbereitung\n",
    "Zuerst werden die benötigten Bibliotheken importiert."
   ],
   "id": "fde2aa547a810e3e"
  },
  {
   "metadata": {
    "ExecuteTime": {
     "end_time": "2024-12-20T16:11:39.056677Z",
     "start_time": "2024-12-20T16:11:34.686351Z"
    }
   },
   "cell_type": "code",
   "source": [
    "import pandas as pd\n",
    "from pgmpy.models import BayesianNetwork\n",
    "from pgmpy.estimators import MaximumLikelihoodEstimator\n",
    "from pgmpy.inference import VariableElimination\n",
    "from data_cleaning.text_to_numeric import get_zimmer, get_stockwerk, get_heizung, get_kindergarten, get_schule, get_bahn, get_miete, get_nebenkosten, get_alter, get_lage, get_kaution, get_kueche, get_bad, get_mobliert, get_quadratmeter"
   ],
   "id": "6f1ef128f362153a",
   "outputs": [],
   "execution_count": 1
  },
  {
   "metadata": {},
   "cell_type": "markdown",
   "source": [
    "### Erläuterung:\n",
    "- **Bewohnerkategorie**: Der Datensatz enthält mehrere Spalten, mit verschiedenen Bewohnergruppen, wie DINK (Double Income No Kids) aber auch Alleinerziehend und Studierende, die die Zugehörigkeit zu einer Kategorie angeben. Diese werden in einer neuen Spalte `Bewohnerkategorie` zusammengefasst.\n",
    "- **Datenbereinigung**: Um den Datensatz korrekt nutzen zu können, müssen wir den Fließtext durch Zahlen ersetzen, damit die KI mit diesen Daten arbeiten kann. Dafür werden \"nein\" und \"ja\" in numerische Werte (0 und 1) umgewandelt. Werte wo es mehr als ein Wert gibt wie bei der Miete, wurde die Mitte der beiden Werte genommen. Dies Funktioniert über unser Python Skript \"data_cleaning.py\".\n"
   ],
   "id": "7965be172befa847"
  },
  {
   "metadata": {
    "ExecuteTime": {
     "end_time": "2024-12-20T16:11:40.207542Z",
     "start_time": "2024-12-20T16:11:40.121947Z"
    }
   },
   "cell_type": "code",
   "source": [
    "file_path = '../../data/Wohnungen_1.csv'\n",
    "data = pd.read_csv(file_path, sep=';') # Gegebenen Datensatz einlesen\n",
    "\n",
    "# Bewohnerkategorie bestimmen\n",
    "bewohnerkategorie = ['Studierende', 'Kleinfamilie', 'DINK', 'Alleinerziehende', 'Expatriate', 'Rentnerpaar']\n",
    "data['Bewohnerkategorie'] = data[bewohnerkategorie].apply(lambda row: 'Keine' if all(row == 'nein') else ', '.join(row[row == 'ja'].index), axis=1)\n",
    "\n",
    "# Löschen von Daten, die nicht kategorisiert sind (dazu später mehr)\n",
    "data = data[data['Bewohnerkategorie'] != 'Keine']\n",
    "\n",
    "# Spalten, in denen \"nein\" durch 0 und \"ja\" durch 1 ersetzt werden sollen\n",
    "columns_to_replace = [\"Hausmeister\", \"Garage\", \"Aufzug\", \"Balkon\", \"Terrasse\", \"Kehrwoche\"]\n",
    "\n",
    "# Ersetze \"nein\" und \"ja\" in den angegebenen Spalten\n",
    "pd.set_option('future.no_silent_downcasting', True)\n",
    "data[columns_to_replace] = data[columns_to_replace].replace({'nein': 0, 'ja': 1}).infer_objects(copy=False)\n",
    "\n",
    "# Fließtext durch Ganzzahl ersetzen\n",
    "data['Zimmerzahl'] = data['Zimmerzahl'].apply(get_zimmer)\n",
    "data['Stockwerk'] = data['Stockwerk'].apply(get_stockwerk)\n",
    "data['Heizung'] = data['Heizung'].apply(get_heizung)\n",
    "data['Kindergarten'] = data['Kindergarten'].apply(get_kindergarten)\n",
    "data['Schule'] = data['Schule'].apply(get_schule)\n",
    "data['S-Bahn'] = data['S-Bahn'].apply(get_bahn)\n",
    "data['Miete'] = data['Miete'].apply(get_miete)\n",
    "data['Nebenkosten'] = data['Nebenkosten'].apply(get_nebenkosten)\n",
    "data['Alter'] = data['Alter'].apply(get_alter)\n",
    "data['Lage'] = data['Lage'].apply(get_lage)\n",
    "data['Kaution'] = data['Kaution'].apply(get_kaution)\n",
    "data['Kueche'] = data['Kueche'].apply(get_kueche)\n",
    "data['Bad'] = data['Bad'].apply(get_bad)\n",
    "data['Moebliert'] = data['Moebliert'].apply(get_mobliert)\n",
    "data['Quadratmeter'] = data['Quadratmeter'].apply(get_quadratmeter)\n",
    "\n",
    "print(data.head())"
   ],
   "id": "2f42bf03eb73f939",
   "outputs": [
    {
     "name": "stdout",
     "output_type": "stream",
     "text": [
      "   Zimmerzahl  Stockwerk  Heizung  Hausmeister  Kindergarten  Schule  S-Bahn  \\\n",
      "0           1          0        0            0             1       0       3   \n",
      "1           1          3        1            0             2       0       4   \n",
      "2           1          1        4            1             2       1       4   \n",
      "3           0          0        1            0             1       0       0   \n",
      "4           0          8        5            0             0       2       2   \n",
      "\n",
      "   Garage  Miete  Nebenkosten  ...  Kehrwoche  Moebliert  Quadratmeter  \\\n",
      "0       0    276           50  ...          0          0            36   \n",
      "1       0    276           50  ...          0          0            36   \n",
      "2       0    276           75  ...          0          0            36   \n",
      "3       0    226           50  ...          0          0            25   \n",
      "4       0    226           50  ...          0          0            36   \n",
      "\n",
      "   Studierende  Kleinfamilie  DINK  Alleinerziehende  Expatriate  Rentnerpaar  \\\n",
      "0           ja          nein  nein                ja        nein           ja   \n",
      "1           ja          nein  nein                ja        nein           ja   \n",
      "2           ja          nein  nein                ja        nein           ja   \n",
      "3           ja          nein  nein              nein        nein         nein   \n",
      "4           ja          nein  nein              nein        nein         nein   \n",
      "\n",
      "                            Bewohnerkategorie  \n",
      "0  Studierende, Alleinerziehende, Rentnerpaar  \n",
      "1  Studierende, Alleinerziehende, Rentnerpaar  \n",
      "2  Studierende, Alleinerziehende, Rentnerpaar  \n",
      "3                                 Studierende  \n",
      "4                                 Studierende  \n",
      "\n",
      "[5 rows x 28 columns]\n"
     ]
    }
   ],
   "execution_count": 2
  },
  {
   "metadata": {},
   "cell_type": "markdown",
   "source": [
    "### Modelle erstellen und trainieren\n",
    "Das Bayes'sche Netz wurde anhand der vorhandenen Daten trainiert, um die Beziehungen zwischen den Merkmalen und der Bewohnerkategorie zu modellieren. Aufgrund der hohen Anzahl von Merkmalen und Kategorien wurde bewusst ein einfacheres Bayes-Netz gewählt, da ein komplexeres Netzwerk rechnerisch aufwendiger und schwerer zu handhaben wäre.\n",
    "\n",
    "Für das Training des Modells kam der Maximum-Likelihood-Schätzer (ML-Schätzer) zum Einsatz. Dieser wurde gewählt, weil wir annehmen, dass die Daten unabhängig und identisch verteilt sind. Im Gegensatz dazu weist der Bayes-Schätzer eine Tendenz zugunsten der Klasse mit den meisten Beispielen auf. Da die Klassen in unserem Datensatz ungleichmäßig verteilt sind, war der Maximum-Likelihood-Schätzer die geeignetere Wahl."
   ],
   "id": "16a06fa427b2cf7"
  },
  {
   "cell_type": "code",
   "id": "initial_id",
   "metadata": {
    "collapsed": true,
    "ExecuteTime": {
     "end_time": "2024-12-20T16:11:45.809618Z",
     "start_time": "2024-12-20T16:11:43.502409Z"
    }
   },
   "source": [
    "# Modell 1\n",
    "model1 = BayesianNetwork([\n",
    "    ('Zimmerzahl', 'Bewohnerkategorie'),\n",
    "    ('Stockwerk', 'Bewohnerkategorie'),\n",
    "    ('Heizung', 'Bewohnerkategorie'),\n",
    "    ('S-Bahn', 'Bewohnerkategorie'),\n",
    "    ('Miete', 'Bewohnerkategorie'),\n",
    "    ('Alter', 'Bewohnerkategorie'),\n",
    "    ('Lage', 'Bewohnerkategorie')\n",
    "])\n",
    "# Modell fitten\n",
    "model1.fit(data, estimator=MaximumLikelihoodEstimator)\n",
    "# Inferenz durchführen\n",
    "inference = VariableElimination(model1)"
   ],
   "outputs": [],
   "execution_count": 3
  },
  {
   "metadata": {},
   "cell_type": "markdown",
   "source": [
    "### Erstes Beispiel - Kleine Änderung\n",
    "Wir vergleichen die Ergebnisse des Modells anhand der Beispiele \"example_Zimmer_difference\" und \"example_Zimmer_difference2\". Dabei variiert nur die Anzahl der Zimmer, um zu sehen, wie sich die Bewohnerkategorie änderen kann."
   ],
   "id": "f864b7c7f34a8071"
  },
  {
   "metadata": {
    "ExecuteTime": {
     "end_time": "2024-12-20T16:11:46.499186Z",
     "start_time": "2024-12-20T16:11:46.491025Z"
    }
   },
   "cell_type": "code",
   "source": [
    "example_Zimmer_difference = {\n",
    "    \"Zimmerzahl\": get_zimmer(\"Zwei Zimmer\"),\n",
    "    \"Stockwerk\": get_stockwerk(\"EG\"),\n",
    "    \"Heizung\": get_heizung(\"Erdwaerme\"),\n",
    "    \"S-Bahn\": get_bahn(\"erreichbar\"),\n",
    "    \"Miete\": get_miete(\"275-277\"),\n",
    "    \"Alter\": get_alter(\"62-64 Jahre\"),\n",
    "    \"Lage\": get_lage(\"Hauptstrasse\")\n",
    "}\n",
    "\n",
    "# Wahrscheinlichkeiten für jede Zielklasse berechnen\n",
    "prediction = inference.query(variables=[\"Bewohnerkategorie\"], evidence=example_Zimmer_difference)\n",
    "\n",
    "# Wahrscheinlichkeiten in ein Dictionary umwandeln\n",
    "result = {str(state): float(prob) for state, prob in zip(prediction.state_names[\"Bewohnerkategorie\"], prediction.values)}\n",
    "\n",
    "# Ausgabe schön formatiert untereinander\n",
    "print(\"Wahrscheinlichkeiten für jede Bewohnerkategorie:\")\n",
    "for category, probability in result.items():\n",
    "    print(f\"{category}: {probability:%}\")"
   ],
   "id": "3b1b07f35d9991f5",
   "outputs": [
    {
     "name": "stdout",
     "output_type": "stream",
     "text": [
      "Wahrscheinlichkeiten für jede Bewohnerkategorie:\n",
      "DINK: 0.000000%\n",
      "Expatriate: 0.000000%\n",
      "Kleinfamilie: 0.000000%\n",
      "Kleinfamilie, DINK: 0.000000%\n",
      "Studierende: 0.000000%\n",
      "Studierende, Alleinerziehende, Rentnerpaar: 100.000000%\n"
     ]
    }
   ],
   "execution_count": 4
  },
  {
   "metadata": {
    "ExecuteTime": {
     "end_time": "2024-12-20T16:11:53.278573Z",
     "start_time": "2024-12-20T16:11:53.269171Z"
    }
   },
   "cell_type": "code",
   "source": [
    "example_Zimmer_difference2 = {\n",
    "    \"Zimmerzahl\": 2,\n",
    "    \"Stockwerk\": 0,\n",
    "    \"Heizung\": 0,\n",
    "    \"S-Bahn\": 3,\n",
    "    \"Miete\": 276,\n",
    "    \"Alter\": 63,\n",
    "    \"Lage\": 4\n",
    "}\n",
    "\n",
    "prediction = inference.query(variables=[\"Bewohnerkategorie\"], evidence=example_Zimmer_difference2)\n",
    "\n",
    "result = {str(state): float(prob) for state, prob in zip(prediction.state_names[\"Bewohnerkategorie\"], prediction.values)}\n",
    "\n",
    "print(\"Wahrscheinlichkeiten für jede Bewohnerkategorie:\")\n",
    "for category, probability in result.items():\n",
    "    print(f\"{category}: {probability:%}\")"
   ],
   "id": "8d7ff0330f8121cd",
   "outputs": [
    {
     "name": "stdout",
     "output_type": "stream",
     "text": [
      "Wahrscheinlichkeiten für jede Bewohnerkategorie:\n",
      "DINK: 16.666667%\n",
      "Expatriate: 16.666667%\n",
      "Kleinfamilie: 16.666667%\n",
      "Kleinfamilie, DINK: 16.666667%\n",
      "Studierende: 16.666667%\n",
      "Studierende, Alleinerziehende, Rentnerpaar: 16.666667%\n"
     ]
    }
   ],
   "execution_count": 5
  },
  {
   "metadata": {},
   "cell_type": "markdown",
   "source": [
    "### Auswertung der Ergebnisse\n",
    "Wie oben schon beschrieben, wurde nur die Anzahl der Zimmer variiert um zu sehen, wie sich die Bewohnerkategorie änderen kann. Hierbei wurde festgestellt, dass selbst eine kleine Änderung in einem Merkmal die Wahrscheinlichkeiten für die Bewohnerkategorien beeinflussen kann.\n",
    "\n",
    "### Potenzielle Erklärung\n",
    "Die Unterschiede in den Wahrscheinlichkeiten zwischen den beiden Beispielen können auf die Änderung der Zimmerzahl zurückgeführt werden. Eine höhere Zimmerzahl könnte bestimmte Bewohnerkategorien wie \"Kleinfamilien\" oder \"DINK\" bevorzugen, während eine niedrigere Zimmerzahl eher für \"Studierende\" oder \"Alleinerziehende\" geeignet sein könnte. Diese Ergebnisse zeigen, wie das Bayes'sche Netz die Beziehungen zwischen den Merkmalen der Wohnung und den Bewohnerkategorien modelliert und wie sich Änderungen in einem Merkmal auf die Wahrscheinlichkeiten der Kategorien auswirken können."
   ],
   "id": "97dfb2e147960e9d"
  },
  {
   "metadata": {
    "ExecuteTime": {
     "end_time": "2024-12-20T16:11:56.986964Z",
     "start_time": "2024-12-20T16:11:56.735627Z"
    }
   },
   "cell_type": "code",
   "source": [
    "#Modell 2\n",
    "model2 = BayesianNetwork([\n",
    "    ('Stockwerk', 'Bewohnerkategorie'),\n",
    "    ('Kindergarten', 'Bewohnerkategorie'),\n",
    "    ('Schule', 'Bewohnerkategorie'),\n",
    "    ('Miete', 'Bewohnerkategorie'),\n",
    "    ('Nebenkosten', 'Bewohnerkategorie'),\n",
    "    ('Kaution', 'Bewohnerkategorie'),\n",
    "    ('Kueche', 'Bewohnerkategorie'),\n",
    "])\n",
    "\n",
    "model2.fit(data, estimator=MaximumLikelihoodEstimator)\n",
    "inference = VariableElimination(model2)"
   ],
   "id": "df4a7b1d4ac18963",
   "outputs": [],
   "execution_count": 6
  },
  {
   "metadata": {},
   "cell_type": "markdown",
   "source": [
    "### Zweites Beispiel - Viel Änderung\n",
    "An diesem Modell vergleichen wir die Beispiele 'example_large_changes' und 'example_large_changes2', hierbei varriert sich, im Gegensatz zum Ersten Modell jede Kategorie mit drastischen Änderungen.\n"
   ],
   "id": "d5d34f882525bcd9"
  },
  {
   "metadata": {
    "ExecuteTime": {
     "end_time": "2024-12-20T16:12:00.173035Z",
     "start_time": "2024-12-20T16:12:00.165871Z"
    }
   },
   "cell_type": "code",
   "source": [
    "example_large_changes = {\n",
    "    \"Stockwerk\": get_stockwerk(\"2.Stock\"),\n",
    "    \"Schule\": get_schule(\"nah\"),\n",
    "    \"Miete\": get_miete(\"201-250\"),\n",
    "    \"Nebenkosten\": get_nebenkosten(\"unter 50\"),\n",
    "    \"Kaution\": get_kaution(\"ueber 3000\"),\n",
    "    \"Kueche\": get_kueche(\"Kueche (neu)\"),\n",
    "}\n",
    "\n",
    "prediction = inference.query(variables=[\"Bewohnerkategorie\"], evidence=example_large_changes)\n",
    "\n",
    "result = {str(state): float(prob) for state, prob in zip(prediction.state_names[\"Bewohnerkategorie\"], prediction.values)}\n",
    "\n",
    "print(\"Wahrscheinlichkeiten für jede Bewohnerkategorie:\")\n",
    "for category, probability in result.items():\n",
    "    print(f\"{category}: {probability:.2%}\")"
   ],
   "id": "fae01df90fecb7ea",
   "outputs": [
    {
     "name": "stdout",
     "output_type": "stream",
     "text": [
      "Wahrscheinlichkeiten für jede Bewohnerkategorie:\n",
      "DINK: 16.67%\n",
      "Expatriate: 16.67%\n",
      "Kleinfamilie: 16.67%\n",
      "Kleinfamilie, DINK: 16.67%\n",
      "Studierende: 16.67%\n",
      "Studierende, Alleinerziehende, Rentnerpaar: 16.67%\n"
     ]
    }
   ],
   "execution_count": 7
  },
  {
   "metadata": {
    "ExecuteTime": {
     "end_time": "2024-12-20T16:12:02.403419Z",
     "start_time": "2024-12-20T16:12:02.393114Z"
    }
   },
   "cell_type": "code",
   "source": [
    "example_large_changes2 = {\n",
    "    \"Stockwerk\": get_stockwerk(\"7.Stock\"),\n",
    "    \"Schule\": get_schule(\"fern\"),\n",
    "    \"Miete\": get_miete(\"551-600\"),\n",
    "    \"Nebenkosten\": get_nebenkosten(\"151-200\"),\n",
    "    \"Kaution\": get_kaution(\"keine\"),\n",
    "    \"Kueche\": get_kueche(\"Kueche (alt)\"),\n",
    "}\n",
    "\n",
    "prediction = inference.query(variables=[\"Bewohnerkategorie\"], evidence=example_large_changes2)\n",
    "\n",
    "result = {str(state): float(prob) for state, prob in zip(prediction.state_names[\"Bewohnerkategorie\"], prediction.values)}\n",
    "\n",
    "print(\"Wahrscheinlichkeiten für jede Bewohnerkategorie:\")\n",
    "for category, probability in result.items():\n",
    "    print(f\"{category}: {probability:.2%}\")"
   ],
   "id": "6f64590db7d20f33",
   "outputs": [
    {
     "name": "stdout",
     "output_type": "stream",
     "text": [
      "Wahrscheinlichkeiten für jede Bewohnerkategorie:\n",
      "DINK: 16.67%\n",
      "Expatriate: 16.67%\n",
      "Kleinfamilie: 16.67%\n",
      "Kleinfamilie, DINK: 16.67%\n",
      "Studierende: 16.67%\n",
      "Studierende, Alleinerziehende, Rentnerpaar: 16.67%\n"
     ]
    }
   ],
   "execution_count": 8
  },
  {
   "metadata": {},
   "cell_type": "markdown",
   "source": [
    "### Auswertung der Ergebnisse\n",
    "Wie oben schon beschrieben, wurden alle im Modell angegeben Wohnungskategorien geändert. Hierbei wurde festgestellt, dass selbst bei größeren Änderungen, die Wahrscheinlichkeiten gleich bleiben kann.\n",
    "\n",
    "### Potenzielle Erklärung\n",
    "Eine mögliche Erklärung worauf das zu führen hat, kann sein das die Änderungen in den Merkmalen nicht ausreichen um die Wahrscheinlichkeiten zu beeinflussen. Welches zurückzuführen ist, dass die Merkmale nicht stark genug miteinander korrelieren, um die Bewohnerkategorien signifikant zu beeinflussen. Was davon kommen kann, dass die Beziehungen zwischen den Merkmalen und den Bewohnerkategorien im Modell möglicherweise nicht stark genug sind, um signifikante Änderungen in den Wahrscheinlichkeiten zu bewirken."
   ],
   "id": "4acd41bb8791b1fb"
  }
 ],
 "metadata": {
  "kernelspec": {
   "display_name": "Python 3",
   "language": "python",
   "name": "python3"
  },
  "language_info": {
   "codemirror_mode": {
    "name": "ipython",
    "version": 2
   },
   "file_extension": ".py",
   "mimetype": "text/x-python",
   "name": "python",
   "nbconvert_exporter": "python",
   "pygments_lexer": "ipython2",
   "version": "2.7.6"
  }
 },
 "nbformat": 4,
 "nbformat_minor": 5
}
