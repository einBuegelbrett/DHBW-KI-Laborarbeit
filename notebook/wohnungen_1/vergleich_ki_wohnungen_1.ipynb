{
 "cells": [
  {
   "metadata": {},
   "cell_type": "markdown",
   "source": [
    "# Vergleich des Bayes Netz und der Evidenztheorie für Datensatz `ẁohnungen_1.csv`\n",
    "\n",
    "## Datensatz erklärung\n",
    "### Beschreibung\n",
    "Der Datensatz enthält Informationen über verschiedene Wohnungen und deren Bewohnerkategorien. Die Bewohnerkategorien sind die Zielvariablen, die anhand der Merkmale der Wohnung vorhergesagt werden sollen. Die Bewohnerkategorien umfassen Studierende, Kleinfamilie, DINK, Alleinerziehende, Expatriate und Rentnerpaar. Die Merkmale der Wohnungen umfassen die Zimmerzahl, Stockwerk, Heizung, Hausmeister, Kindergarten, Schule, S-Bahn, Garage, Miete, Nebenkosten, Alter, Aufzug, Lage, Kaution, Kueche, Bad, Balkon, Terrasse, Kehrwoche, Moebliert und Quadratmeter.\n",
    "\n",
    "### Auffälligkeiten bei dem Datensatz\n",
    "- **Viele Nichtsaussagende Zeilen**: Einige Zeilen enthalten keine Informationen über die Bewohnerkategorie, da alle Werte auf \"nein\" gesetzt sind. Diese Zeilen wurden entfernt, da diese keine Informationen für das Modell enthalten. Hierbei wurden von Ursprünglich 501 Zeilen nurnoch 67 Zeilen übrig gelassen.\n",
    "| Kategorie         | Anzahl  |\n",
    "|--------------------|--------|\n",
    "| Keine              | 434    |\n",
    "| Kleinfamilie       | 36     |\n",
    "| Studierende        | 19     |\n",
    "| DINK               | 10     |\n",
    "| Expatriate         | 2      |\n",
    "| Alleinerziehende   | 0      |\n",
    "| Rentnerpaar        | 0      |\n",
    "\n",
    "NOTIZ - Ändern (mit berücksichtigung gleiche klassen)\n",
    "| Kategorie         | Anzahl  |\n",
    "|--------------------|--------|\n",
    "| Keine              | 434    |\n",
    "| Kleinfamilie       | 36     |\n",
    "| Studierende        | 19     |\n",
    "| DINK               | 10     |\n",
    "| Expatriate         | 2      |\n",
    "| Alleinerziehende   | 0      |\n",
    "| Rentnerpaar        | 0      |\n",
    "\n",
    "- **Unausgeglichene Klassen**: Die Bewohnerkategorien sind stark ungleich verteilt, was zu einer potenziellen Verzerrung des Modells führen kann. Die Kleinfamilien stellen die größte Gruppe dar, gefolgt von den Studierenden und DINK. Kategorien wie Expatriate sind dagegen stark unterrepräsentiert. Mit dem Bedenken das die Alleinerziehende oder das Rentnerpaar keine einzelnen Reihen haben und nur in Kombination mit anderen Bewohnergruppen, wodurch es erschwert möglich ist diese Gruppe gezielt zu Treffen.\n",
    "\n",
    "- **Korrelationen**: Es gibt möglicherweise Korrelationen zwischen den Merkmalen, die das Modell berücksichtigen sollte. Beispielsweise könnten die Anzahl der Zimmer und das Stockwerk einer Wohnung mit der Bewohnerkategorie zusammenhängen. Diese Beziehungen können genutzt und zusammengefasst werden, um die Vorhersagegenauigkeit zu verbessern.\n",
    "\n",
    "- **Fehlende Werte**: Der Datensatz enthält keine fehlenden Werte, was die Vorverarbeitung erleichtert.\n",
    "\n",
    "## Schwäche\n",
    "### Bayessches Netz\n",
    "- Die ungleiche Verteilung erschwert es dem Modell, seltene Klassen zuverlässig zu berücksichtigen, während dominante Klassen das Ergebnis unverhältnismäßig stark beeinflussen können. Beispielsweise ist es schwierig, Expatriate aus dem Modell zu bekommen, da Kleinfamilien und Studierende in der Regel die Ergebnisse dominieren.\n",
    "\n",
    "- Zudem durch die ganzen Attribute wird das Modell zu groß und braucht zu viel viel Speicher und Rechenleistung. Es ist fast nicht mögliche alle Attribute in dem Modell gleichzeitig zu berücksichtigen. Hier ist ein Bild wenn alle Attribute in das Modell eingegeben werden:\n",
    "![Speicher](images/speicher.png \"Speicher\")\n",
    "\n",
    "### Evidenztheorie\n",
    "Es kann vorkommen, dass die Evidenz 0 ist, wenn keine Übereinstimmung mit den gegebenen Attributen und den Daten besteht. Man kann keine Aussage treffen, wenn die Evidenz 0 ist und somit keine Bewohnerkategorie vorhersagen.\n",
    "![Keine Evidenz](images/keine_evidenz.png \"Keine Evidenz\")\n",
    "\n",
    "## Stärken\n",
    "### Bayes\n",
    "Der Vorteil beim Bayesschen Netz, ist dass man gegenüber dem Evidenztheorie immer ein Ergebnis bekommt.\n",
    "\n",
    "### Evidenztheorie\n",
    "Nicht sowie beim Bayesschen Netz, was schon bei ein paar Knoten zu viel Speicher und Rechenleistung führen kann, ist die Evidenztheorie effizienter und benötigt weniger Speicher und Rechenleistung.\n",
    "\n",
    "## Gemeinsamkeiten\n",
    "Beide Methoden können verwendet werden, um die Bewohnerkategorie einer Wohnung vorherzusagen.\n",
    "\n",
    "## Vergleich der Datensätzen\n",
    "Mit den Daten Zimmerzahl=2 Zimmer und Etage=EG schnitt Expatriate Raus bei der Evidenztheorie mit 100% ab, während beim Bayesschen Netz die Paare Studierende, Alleinerziehende und Rentnerpaar mit 16,77% am besten abschnitten, aber auch knapp vor Expatriate lagen.\n",
    "![Beispiel Expatriate](images/expatriate.png \"Beispiel Expatriate\")\n",
    "\n",
    "Wie oben besprochen, wenn es keine Übereinstimmung zwischen den gegebenen Attributen und den Daten gibt, wird die Evidenz 0 sein. Während Bayes immer ein Ergebnis liefert. Dies ist auf der folgenden Abbildung zu sehen, wo bei der Evidenztheorie keine Übereinstimmung mit den gegebenen Attributen und den Daten, dann wird die Evidenz 0 sein. Während bei Bayes immer ein Ergebnis herauskommt.\n",
    "![Beispiel None](images/none.png \"Beispiel None\")"
   ],
   "id": "58ee50d94f189d26"
  },
  {
   "cell_type": "code",
   "execution_count": null,
   "id": "initial_id",
   "metadata": {
    "collapsed": true
   },
   "outputs": [],
   "source": [
    ""
   ]
  }
 ],
 "metadata": {
  "kernelspec": {
   "display_name": "Python 3",
   "language": "python",
   "name": "python3"
  },
  "language_info": {
   "codemirror_mode": {
    "name": "ipython",
    "version": 2
   },
   "file_extension": ".py",
   "mimetype": "text/x-python",
   "name": "python",
   "nbconvert_exporter": "python",
   "pygments_lexer": "ipython2",
   "version": "2.7.6"
  }
 },
 "nbformat": 4,
 "nbformat_minor": 5
}
