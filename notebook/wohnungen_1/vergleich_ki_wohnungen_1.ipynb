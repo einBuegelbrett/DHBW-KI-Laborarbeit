{
 "cells": [
  {
   "metadata": {},
   "cell_type": "markdown",
   "source": [
    "# Vergleich des Bayes Netz und der Evidenztheorie für Datensatz `ẁohnungen_1.csv`\n",
    "\n",
    "## Datensatz erklärung\n",
    "### Beschreibung\n",
    "Notiz: Bewohnerkategorie erwähnen\n",
    "Der Datensatz enthält Informationen über verschiedene Wohnungen und deren Bewohnerkategorien. Die Bewohnerkategorien sind die Zielvariablen, die anhand der Merkmale der Wohnung vorhergesagt werden sollen. Die Merkmale umfassen die Anzahl der Zimmer, das Stockwerk, die Heizung, die Entfernung zur S-Bahn, die Miete, das Alter und die Lage der Wohnung ...\n",
    "\n",
    "### Auffälligkeiten bei dem Datensatz\n",
    "- **Viele Nichtsaussagende Zeilen**: Einige Zeilen enthalten keine Informationen über die Bewohnerkategorie, da alle Werte auf \"nein\" gesetzt sind. Diese Zeilen wurden entfernt, da diese keine Informationen für das Modell enthalten. Hierbei wurden von Ursprünglich 501 Zeilen nurnoch 67 Zeilen übrig gelassen.\n",
    "| Kategorie         | Anzahl |\n",
    "|--------------------|--------|\n",
    "| Keine              | 434    |\n",
    "| Kleinfamilie       | 36     |\n",
    "| Studierende        | 19     |\n",
    "| DINK               | 10     |\n",
    "| Expatriate         | 2      |\n",
    "| Alleinerziehende   | 0      |\n",
    "| Rentnerpaar        | 0      |\n",
    "\n",
    "NOTIZ - Ändern (mit berücksichtigung gleiche klassen)\n",
    "| Kategorie         | Anzahl |\n",
    "|--------------------|--------|\n",
    "| Keine              | 434    |\n",
    "| Kleinfamilie       | 36     |\n",
    "| Studierende        | 19     |\n",
    "| DINK               | 10     |\n",
    "| Expatriate         | 2      |\n",
    "| Alleinerziehende   | 0      |\n",
    "| Rentnerpaar        | 0      |\n",
    "\n",
    "- **Unausgeglichene Klassen**: Die Bewohnerkategorien sind stark ungleich verteilt, was zu einer potenziellen Verzerrung des Modells führen kann. Die Kleinfamilien stellen die größte Gruppe dar, gefolgt von den Studierenden und DINK. Kategorien wie Expatriate sind dagegen stark unterrepräsentiert. Mit dem Bedenken das die Alleinerziehende oder das Rentnerpaar keine einzelnen Reihen haben und nur in Kombination mit anderen Bewohnergruppen, wodurch es erschwert möglich ist diese Gruppe gezielt zu Treffen.\n",
    "\n",
    "- **Korrelationen**: Es gibt möglicherweise Korrelationen zwischen den Merkmalen, die das Modell berücksichtigen sollte. Beispielsweise könnten die Anzahl der Zimmer und das Stockwerk einer Wohnung mit der Bewohnerkategorie zusammenhängen. Diese Beziehungen können genutzt und zusammengefasst werden, um die Vorhersagegenauigkeit zu verbessern.\n",
    "\n",
    "- **Fehlende Werte**: Der Datensatz enthält keine fehlenden Werte, was die Vorverarbeitung erleichtert.\n",
    "\n",
    "## Schwäche\n",
    "### Bayes\n",
    "Destoweiteren wird durch der Ungleichen Verteilung es dem Modell erschwert, seltene Klassen zuverlässig zu berücksichtigen, während dominante Klassen das Ergebnis unverhältnismäßig beeinflussen können.\n",
    "Viele Knoten zu viel Speicher und Rechenleistung\n",
    "\n",
    "### Evidenztheorie\n",
    "Evidenztheorie wenn keine Übereinstimmung mit den gegebenen Attributen und den Daten, dann wird die Evidenz 0 sein.\n",
    "\n",
    "## Stärken\n",
    "### Bayes\n",
    "Es kommt immer ein Ergebnis raus\n",
    "\n",
    "### Evidenztheorie\n",
    "Alle Attribute können ohne große rechenleistung benutzt werden\n",
    "\n",
    "## Gemeinsamkeiten\n",
    "- Beide Methoden können verwendet werden, um die Bewohnerkategorie einer Wohnung vorherzusagen.\n",
    "\n",
    "## Vergleich der Datensätzen\n",
    "![Beispiel Expatriate](images/expatriate.png \"Beispiel Expatriate\")\n",
    "Dann kann man als Text haben sowas wie\n",
    "Mit dem Datensatz Zimmerzahl: 1 und Stockwerk: 0 kam bei der Evidenztheorie (Abbildung. 1 zweites Bild)\n",
    "Expatriate Raus mit 100%\n",
    "während es bei Bayes für die Paare Studierende, Alleinerziehende und Rentnerpaar am besten gepasst hat mit 16,77%, aber auch knapp dran von Expatriate\n",
    "\n",
    "![Beispiel None](images/none.png \"Beispiel None\")\n",
    "Wie oben besprochen wenn keine Übereinstimmung mit den gegebenen Attributen und den Daten, dann wird die Evidenz 0 sein. Während bei Bayes immer ein Ergebnis rauskommt. Das ist auf folgende Abbildung zu sehen, wo bei der Evidenztheorie keine Übereinstimmung mit den gegebenen Attributen und den Daten, dann wird die Evidenz 0 sein. Während bei Bayes immer ein Ergebnis rauskommt."
   ],
   "id": "58ee50d94f189d26"
  },
  {
   "cell_type": "code",
   "execution_count": null,
   "id": "initial_id",
   "metadata": {
    "collapsed": true
   },
   "outputs": [],
   "source": [
    ""
   ]
  }
 ],
 "metadata": {
  "kernelspec": {
   "display_name": "Python 3",
   "language": "python",
   "name": "python3"
  },
  "language_info": {
   "codemirror_mode": {
    "name": "ipython",
    "version": 2
   },
   "file_extension": ".py",
   "mimetype": "text/x-python",
   "name": "python",
   "nbconvert_exporter": "python",
   "pygments_lexer": "ipython2",
   "version": "2.7.6"
  }
 },
 "nbformat": 4,
 "nbformat_minor": 5
}
