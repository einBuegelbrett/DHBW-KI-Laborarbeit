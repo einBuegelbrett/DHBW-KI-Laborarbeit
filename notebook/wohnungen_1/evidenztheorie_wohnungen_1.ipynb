{
 "cells": [
  {
   "metadata": {
    "ExecuteTime": {
     "end_time": "2024-12-19T14:25:11.491119Z",
     "start_time": "2024-12-19T14:25:10.887632Z"
    }
   },
   "cell_type": "code",
   "source": [
    "import pandas as pd\n",
    "from data_cleaning.text_to_numeric import get_zimmer, get_stockwerk, get_heizung, get_kindergarten, get_schule, get_bahn, get_miete, get_nebenkosten, get_alter, get_lage, get_kaution, get_kueche, get_bad, get_mobliert, get_quadratmeter\n",
    "from combined_mass.combined_mass import calculate_combined_mass"
   ],
   "id": "349e06c85500308",
   "outputs": [],
   "execution_count": 1
  },
  {
   "metadata": {
    "ExecuteTime": {
     "end_time": "2024-12-19T14:25:12.353479Z",
     "start_time": "2024-12-19T14:25:12.309448Z"
    }
   },
   "cell_type": "code",
   "source": [
    "file_path = '../../data/Wohnungen_1.csv'  # Gegebenen Datensatz einlesen\n",
    "data = pd.read_csv(file_path, sep=';')\n",
    "\n",
    "# Bewohnerkategorie bestimmen\n",
    "bewohnerkategorie = ['Studierende', 'Kleinfamilie', 'DINK', 'Alleinerziehende', 'Expatriate', 'Rentnerpaar']\n",
    "\n",
    "data['Bewohnerkategorie'] = data[bewohnerkategorie].apply(lambda row: 'Keine' if all(row == 'nein') else ', '.join(row[row == 'ja'].index), axis=1)\n",
    "\n",
    "# Bereinigung der Daten\n",
    "data = data[data['Bewohnerkategorie'] != 'Keine']\n",
    "\n",
    "# Spalten, in denen \"nein\" durch 0 und \"ja\" durch 1 ersetzt werden sollen\n",
    "columns_to_replace = [\"Hausmeister\", \"Garage\", \"Aufzug\", \"Balkon\", \"Terrasse\", \"Kehrwoche\"]\n",
    "\n",
    "# Ersetze \"nein\" und \"ja\" in den angegebenen Spalten\n",
    "data[columns_to_replace] = data[columns_to_replace].replace({'nein': 0, 'ja': 1})\n",
    "\n",
    "data['Zimmerzahl'] = data['Zimmerzahl'].apply(get_zimmer)\n",
    "data['Stockwerk'] = data['Stockwerk'].apply(get_stockwerk)\n",
    "data['Heizung'] = data['Heizung'].apply(get_heizung)\n",
    "data['Kindergarten'] = data['Kindergarten'].apply(get_kindergarten)\n",
    "data['Schule'] = data['Schule'].apply(get_schule)\n",
    "data['S-Bahn'] = data['S-Bahn'].apply(get_bahn)\n",
    "data['Miete'] = data['Miete'].apply(get_miete)\n",
    "data['Nebenkosten'] = data['Nebenkosten'].apply(get_nebenkosten)\n",
    "data['Alter'] = data['Alter'].apply(get_alter)\n",
    "data['Lage'] = data['Lage'].apply(get_lage)\n",
    "data['Kaution'] = data['Kaution'].apply(get_kaution)\n",
    "data['Kueche'] = data['Kueche'].apply(get_kueche)\n",
    "data['Bad'] = data['Bad'].apply(get_bad)\n",
    "data['Moebliert'] = data['Moebliert'].apply(get_mobliert)\n",
    "data['Quadratmeter'] = data['Quadratmeter'].apply(get_quadratmeter)\n",
    "\n",
    "print(data.head())"
   ],
   "id": "2deecae3b01e060",
   "outputs": [
    {
     "name": "stdout",
     "output_type": "stream",
     "text": [
      "    Zimmerzahl  Stockwerk  Heizung  Hausmeister  Kindergarten  Schule  S-Bahn  \\\n",
      "11           2          0        0            0             1       2       4   \n",
      "13           2          0        5            0             2       2       3   \n",
      "23           2          1        4            1             1       2       4   \n",
      "27           0          0        1            0             1       0       0   \n",
      "40           0          8        5            0             0       2       2   \n",
      "\n",
      "    Garage  Miete  Nebenkosten  ...  Kehrwoche  Moebliert  Quadratmeter  \\\n",
      "11       0    726          276  ...          0          0           116   \n",
      "13       1    726          226  ...          0          0           106   \n",
      "23       0    776          276  ...          0          0           116   \n",
      "27       0    226           50  ...          0          0            25   \n",
      "40       0    226           50  ...          0          0            36   \n",
      "\n",
      "    Studierende  Kleinfamilie  DINK  Alleinerziehende  Expatriate  \\\n",
      "11         nein            ja  nein              nein        nein   \n",
      "13         nein            ja  nein              nein        nein   \n",
      "23         nein            ja  nein              nein        nein   \n",
      "27           ja          nein  nein              nein        nein   \n",
      "40           ja          nein  nein              nein        nein   \n",
      "\n",
      "    Rentnerpaar  Bewohnerkategorie  \n",
      "11         nein       Kleinfamilie  \n",
      "13         nein       Kleinfamilie  \n",
      "23         nein       Kleinfamilie  \n",
      "27         nein        Studierende  \n",
      "40         nein        Studierende  \n",
      "\n",
      "[5 rows x 28 columns]\n"
     ]
    },
    {
     "name": "stderr",
     "output_type": "stream",
     "text": [
      "/tmp/ipykernel_2961/1043316277.py:16: FutureWarning: Downcasting behavior in `replace` is deprecated and will be removed in a future version. To retain the old behavior, explicitly call `result.infer_objects(copy=False)`. To opt-in to the future behavior, set `pd.set_option('future.no_silent_downcasting', True)`\n",
      "  data[columns_to_replace] = data[columns_to_replace].replace({'nein': 0, 'ja': 1})\n"
     ]
    }
   ],
   "execution_count": 2
  },
  {
   "cell_type": "code",
   "id": "initial_id",
   "metadata": {
    "collapsed": true,
    "ExecuteTime": {
     "end_time": "2024-12-19T14:25:15.630311Z",
     "start_time": "2024-12-19T14:25:15.627718Z"
    }
   },
   "source": "omega = ['Studierende', 'Kleinfamilie', 'DINK', 'Alleinerziehende', 'Expatriate', 'Rentnerpaar']",
   "outputs": [],
   "execution_count": 3
  },
  {
   "metadata": {
    "ExecuteTime": {
     "end_time": "2024-12-18T13:02:34.496133Z",
     "start_time": "2024-12-18T13:02:34.490357Z"
    }
   },
   "cell_type": "code",
   "source": [
    "# mass_hausmeister = calculate_basismaße_multivalue(data, 'Hausmeister', omega)\n",
    "# print(\"Basismaße für Hausmeister:\", mass_hausmeister)"
   ],
   "id": "3aa71ea7e5bcbec9",
   "outputs": [
    {
     "name": "stdout",
     "output_type": "stream",
     "text": [
      "Basismaße für Garage: {set():0.7164179104477613; {'Studierende'}:0.208955223880597; {'Kleinfamilie'}:0.07462686567164178; {'DINK'}:0.0; {'Alleinerziehende'}:0.0; {'Expatriate'}:0.0; {'Rentnerpaar'}:0.0}\n"
     ]
    }
   ],
   "execution_count": 21
  },
  {
   "metadata": {
    "ExecuteTime": {
     "end_time": "2024-12-19T09:40:23.806779Z",
     "start_time": "2024-12-19T09:40:23.803884Z"
    }
   },
   "cell_type": "code",
   "source": [
    "# Kombiniere Basismaße (z. B. Garage und Zimmerkategorie)\n",
    "# combined_mass = mass_garage & mass_aufzug\n",
    "# print(\"Kombinierte Evidenz:\", combined_mass)\n",
    "# Wahrscheinlichste Hypothese auswählen\n",
    "# most_likely = combined_mass.max_bel()\n",
    "# print(\"Am wahrscheinlichsten ist:\", most_likely)"
   ],
   "id": "d08a458b118b08a9",
   "outputs": [],
   "execution_count": 3
  },
  {
   "metadata": {
    "ExecuteTime": {
     "end_time": "2024-12-19T14:44:44.966584Z",
     "start_time": "2024-12-19T14:44:44.958480Z"
    }
   },
   "cell_type": "code",
   "source": [
    "# Gegebene Attribut-Wert-Kombinationen\\n\",\n",
    "attributes_values = {\n",
    "    'Zimmerzahl': 1,\n",
    "    'Stockwerk': 0,\n",
    "}\n",
    "\n",
    "# Berechne die kombinierte Evidenz\\n\",\n",
    "combined_mass = calculate_combined_mass(data, attributes_values, omega)\n",
    "\n",
    "# Ausgabe der kombinierten Evidenz\n",
    "print(\"Kombinierte Evidenz:\", combined_mass)\n",
    "\n",
    "# Wahrscheinlichste Hypothese basierend auf der kombinierten Evidenz\n",
    "most_likely = combined_mass.max_bel()  # Maximale Glaubwürdigkeit\n",
    "\n",
    "print(\"Am wahrscheinlichsten ist:\", most_likely)"
   ],
   "id": "bab40bab0c83b9bc",
   "outputs": [
    {
     "name": "stdout",
     "output_type": "stream",
     "text": [
      "Basismaße für Zimmerzahl=1: {set():0.9850746268656716; {'Expatriate'}:0.014925373134328358; {'Studierende'}:0.0; {'Kleinfamilie'}:0.0; {'DINK'}:0.0; {'Alleinerziehende'}:0.0; {'Rentnerpaar'}:0.0}\n",
      "Basismaße für Stockwerk=0: {set():0.7313432835820896; {'Kleinfamilie'}:0.19402985074626866; {'Studierende'}:0.05970149253731343; {'Expatriate'}:0.014925373134328358; {'DINK'}:0.0; {'Alleinerziehende'}:0.0; {'Rentnerpaar'}:0.0}\n",
      "Kombinierte Evidenz: {{'Expatriate'}:1.0; {'Studierende'}:0.0; {'Kleinfamilie'}:0.0; {'DINK'}:0.0; {'Alleinerziehende'}:0.0; {'Rentnerpaar'}:0.0}\n",
      "Kombinierte Evidenz: {{'Expatriate'}:1.0; {'Studierende'}:0.0; {'Kleinfamilie'}:0.0; {'DINK'}:0.0; {'Alleinerziehende'}:0.0; {'Rentnerpaar'}:0.0}\n",
      "Am wahrscheinlichsten ist: frozenset({'Expatriate'})\n"
     ]
    }
   ],
   "execution_count": 17
  }
 ],
 "metadata": {
  "kernelspec": {
   "display_name": "Python 3",
   "language": "python",
   "name": "python3"
  },
  "language_info": {
   "codemirror_mode": {
    "name": "ipython",
    "version": 2
   },
   "file_extension": ".py",
   "mimetype": "text/x-python",
   "name": "python",
   "nbconvert_exporter": "python",
   "pygments_lexer": "ipython2",
   "version": "2.7.6"
  }
 },
 "nbformat": 4,
 "nbformat_minor": 5
}
