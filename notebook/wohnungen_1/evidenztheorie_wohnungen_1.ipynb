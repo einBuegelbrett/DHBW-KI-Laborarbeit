{
 "cells": [
  {
   "metadata": {
    "ExecuteTime": {
     "end_time": "2024-12-18T13:02:27.524100Z",
     "start_time": "2024-12-18T13:02:27.522130Z"
    }
   },
   "cell_type": "code",
   "source": [
    "from pyds import MassFunction\n",
    "import pandas as pd\n",
    "from data_cleaning.data_cleaning import get_zimmer, get_stockwerk, get_heizung, get_kindergarten, get_schule, get_bahn, get_miete, get_nebenkosten, get_alter, get_lage, get_kaution, get_kueche, get_bad, get_mobliert, get_quadratmeter"
   ],
   "id": "349e06c85500308",
   "outputs": [],
   "execution_count": 18
  },
  {
   "metadata": {
    "ExecuteTime": {
     "end_time": "2024-12-18T13:02:29.514186Z",
     "start_time": "2024-12-18T13:02:29.491199Z"
    }
   },
   "cell_type": "code",
   "source": [
    "file_path = '../../data/Wohnungen_1.csv'  # Gegebenen Datensatz einlesen\n",
    "data = pd.read_csv(file_path, sep=';')\n",
    "\n",
    "# Bewohnerkategorie bestimmen\n",
    "bewohnerkategorie = ['Studierende', 'Kleinfamilie', 'DINK', 'Alleinerziehende', 'Expatriate', 'Rentnerpaar']\n",
    "data['Bewohnerkategorie'] = data[bewohnerkategorie].apply(lambda row: 'Keine' if all(row == 'nein') else row.idxmax(), axis=1)\n",
    "\n",
    "# Bereinigung der Daten\n",
    "data = data[data['Bewohnerkategorie'] != 'Keine']\n",
    "\n",
    "# Spalten, in denen \"nein\" durch 0 und \"ja\" durch 1 ersetzt werden sollen\n",
    "columns_to_replace = [\"Hausmeister\", \"Garage\", \"Aufzug\", \"Balkon\", \"Terrasse\", \"Kehrwoche\"]\n",
    "\n",
    "# Ersetze \"nein\" und \"ja\" in den angegebenen Spalten\n",
    "data[columns_to_replace] = data[columns_to_replace].replace({'nein': 0, 'ja': 1})\n",
    "\n",
    "data['Zimmerzahl'] = data['Zimmerzahl'].apply(get_zimmer)\n",
    "data['Stockwerk'] = data['Stockwerk'].apply(get_stockwerk)\n",
    "data['Heizung'] = data['Heizung'].apply(get_heizung)\n",
    "data['Kindergarten'] = data['Kindergarten'].apply(get_kindergarten)\n",
    "data['Schule'] = data['Schule'].apply(get_schule)\n",
    "data['S-Bahn'] = data['S-Bahn'].apply(get_bahn)\n",
    "data['Miete'] = data['Miete'].apply(get_miete)\n",
    "data['Nebenkosten'] = data['Nebenkosten'].apply(get_nebenkosten)\n",
    "data['Alter'] = data['Alter'].apply(get_alter)\n",
    "data['Lage'] = data['Lage'].apply(get_lage)\n",
    "data['Kaution'] = data['Kaution'].apply(get_kaution)\n",
    "data['Kueche'] = data['Kueche'].apply(get_kueche)\n",
    "data['Bad'] = data['Bad'].apply(get_bad)\n",
    "data['Moebliert'] = data['Moebliert'].apply(get_mobliert)\n",
    "data['Quadratmeter'] = data['Quadratmeter'].apply(get_quadratmeter)\n",
    "\n",
    "print(data.head())"
   ],
   "id": "2deecae3b01e060",
   "outputs": [
    {
     "name": "stdout",
     "output_type": "stream",
     "text": [
      "    Zimmerzahl  Stockwerk  Heizung  Hausmeister  Kindergarten  Schule  S-Bahn  \\\n",
      "11           2          0        0            0             1       2       4   \n",
      "13           2          0        5            0             2       2       3   \n",
      "23           2          1        4            1             1       2       4   \n",
      "27           0          0        1            0             1       0       0   \n",
      "40           0          8        5            0             0       2       2   \n",
      "\n",
      "    Garage  Miete  Nebenkosten  ...  Kehrwoche  Moebliert  Quadratmeter  \\\n",
      "11       0    726          276  ...          0          0           116   \n",
      "13       1    726          226  ...          0          0           106   \n",
      "23       0    776          276  ...          0          0           116   \n",
      "27       0    226           50  ...          0          0            25   \n",
      "40       0    226           50  ...          0          0            36   \n",
      "\n",
      "    Studierende  Kleinfamilie  DINK  Alleinerziehende  Expatriate  \\\n",
      "11         nein            ja  nein              nein        nein   \n",
      "13         nein            ja  nein              nein        nein   \n",
      "23         nein            ja  nein              nein        nein   \n",
      "27           ja          nein  nein              nein        nein   \n",
      "40           ja          nein  nein              nein        nein   \n",
      "\n",
      "    Rentnerpaar  Bewohnerkategorie  \n",
      "11         nein        Studierende  \n",
      "13         nein        Studierende  \n",
      "23         nein        Studierende  \n",
      "27         nein       Kleinfamilie  \n",
      "40         nein       Kleinfamilie  \n",
      "\n",
      "[5 rows x 28 columns]\n"
     ]
    },
    {
     "name": "stderr",
     "output_type": "stream",
     "text": [
      "/tmp/ipykernel_8781/1129585513.py:15: FutureWarning: Downcasting behavior in `replace` is deprecated and will be removed in a future version. To retain the old behavior, explicitly call `result.infer_objects(copy=False)`. To opt-in to the future behavior, set `pd.set_option('future.no_silent_downcasting', True)`\n",
      "  data[columns_to_replace] = data[columns_to_replace].replace({'nein': 0, 'ja': 1})\n"
     ]
    }
   ],
   "execution_count": 19
  },
  {
   "cell_type": "code",
   "id": "initial_id",
   "metadata": {
    "collapsed": true,
    "ExecuteTime": {
     "end_time": "2024-12-18T13:02:33.110677Z",
     "start_time": "2024-12-18T13:02:33.108646Z"
    }
   },
   "source": "omega = ['Studierende', 'Kleinfamilie', 'DINK', 'Alleinerziehende', 'Expatriate', 'Rentnerpaar']",
   "outputs": [],
   "execution_count": 20
  },
  {
   "metadata": {
    "ExecuteTime": {
     "end_time": "2024-12-18T13:02:34.496133Z",
     "start_time": "2024-12-18T13:02:34.490357Z"
    }
   },
   "cell_type": "code",
   "source": [
    "# Berechne Basismaße für Garage\n",
    "basismaße_garage = {}\n",
    "\n",
    "for kategorie in omega:\n",
    "    total = len(data)\n",
    "    count_hypothesis = len(data[(data['Garage'] == 1) & (data['Bewohnerkategorie'] == kategorie)])\n",
    "    basismaße_garage[frozenset([kategorie])] = count_hypothesis / total\n",
    "\n",
    "# Unsicherheit hinzufügen\n",
    "basismaße_garage[frozenset()] = 1 - sum(basismaße_garage.values())\n",
    "\n",
    "# Erstelle die MassFunction für Garage\n",
    "mass_garage = MassFunction(basismaße_garage)\n",
    "print(\"Basismaße für Garage:\", mass_garage)\n"
   ],
   "id": "3aa71ea7e5bcbec9",
   "outputs": [
    {
     "name": "stdout",
     "output_type": "stream",
     "text": [
      "Basismaße für Garage: {set():0.7164179104477613; {'Studierende'}:0.208955223880597; {'Kleinfamilie'}:0.07462686567164178; {'DINK'}:0.0; {'Alleinerziehende'}:0.0; {'Expatriate'}:0.0; {'Rentnerpaar'}:0.0}\n"
     ]
    }
   ],
   "execution_count": 21
  },
  {
   "metadata": {
    "ExecuteTime": {
     "end_time": "2024-12-18T13:15:38.284352Z",
     "start_time": "2024-12-18T13:15:38.278269Z"
    }
   },
   "cell_type": "code",
   "source": [
    "# Berechne Basismaße für Aufzug\n",
    "basismaße_aufzug = {}\n",
    "\n",
    "for kategorie in omega:\n",
    "    total = len(data)\n",
    "    count_hypothesis = len(data[(data['Aufzug'] == 1) & (data['Bewohnerkategorie'] == kategorie)])\n",
    "    basismaße_aufzug[frozenset([kategorie])] = count_hypothesis / total\n",
    "\n",
    "# Unsicherheit hinzufügen\n",
    "basismaße_aufzug[frozenset()] = 1 - sum(basismaße_aufzug.values())\n",
    "\n",
    "# Erstelle die MassFunction für Garage\n",
    "mass_aufzug = MassFunction(basismaße_aufzug)\n",
    "print(\"Basismaße für Aufzug:\", mass_aufzug)"
   ],
   "id": "d08a458b118b08a9",
   "outputs": [
    {
     "name": "stdout",
     "output_type": "stream",
     "text": [
      "Basismaße für Aufzug: {set():0.417910447761194; {'Studierende'}:0.3880597014925373; {'Kleinfamilie'}:0.19402985074626866; {'DINK'}:0.0; {'Alleinerziehende'}:0.0; {'Expatriate'}:0.0; {'Rentnerpaar'}:0.0}\n"
     ]
    }
   ],
   "execution_count": 26
  },
  {
   "metadata": {
    "ExecuteTime": {
     "end_time": "2024-12-18T13:19:46.904220Z",
     "start_time": "2024-12-18T13:19:46.901130Z"
    }
   },
   "cell_type": "code",
   "source": [
    "# Kombiniere Basismaße (z. B. Garage und Zimmerkategorie)\n",
    "combined_mass = mass_garage & mass_aufzug\n",
    "print(\"Kombinierte Evidenz:\", combined_mass)\n",
    "\n",
    "# Wahrscheinlichste Hypothese auswählen\n",
    "most_likely = combined_mass.max_bel()\n",
    "print(\"Am wahrscheinlichsten ist:\", most_likely)\n"
   ],
   "id": "bab40bab0c83b9bc",
   "outputs": [
    {
     "name": "stdout",
     "output_type": "stream",
     "text": [
      "Kombinierte Evidenz: {{'Studierende'}:0.8484848484848485; {'Kleinfamilie'}:0.15151515151515152; {'DINK'}:0.0; {'Alleinerziehende'}:0.0; {'Expatriate'}:0.0; {'Rentnerpaar'}:0.0}\n",
      "Am wahrscheinlichsten ist: frozenset({'Studierende'})\n"
     ]
    }
   ],
   "execution_count": 30
  }
 ],
 "metadata": {
  "kernelspec": {
   "display_name": "Python 3",
   "language": "python",
   "name": "python3"
  },
  "language_info": {
   "codemirror_mode": {
    "name": "ipython",
    "version": 2
   },
   "file_extension": ".py",
   "mimetype": "text/x-python",
   "name": "python",
   "nbconvert_exporter": "python",
   "pygments_lexer": "ipython2",
   "version": "2.7.6"
  }
 },
 "nbformat": 4,
 "nbformat_minor": 5
}
