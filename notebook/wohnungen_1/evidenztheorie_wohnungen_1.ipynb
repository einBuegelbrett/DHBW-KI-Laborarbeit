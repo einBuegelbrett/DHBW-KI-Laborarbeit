{
 "cells": [
  {
   "metadata": {},
   "cell_type": "markdown",
   "source": [
    "# Evidenz zur Klassifikation von Wohnungsbewohnerkategorien (Datensatz \"wohnungen_1.csv\")\n",
    "Dieses Notebook stellt ein Modell auf Basis eines Bayes-Netzes vor, das verwendet wird, um die Bewohnerkategorie einer Wohnung basierend auf den Merkmalen der Wohnung zu klassifizieren.\n",
    "\n",
    "## Ziel\n",
    "Das Ziel dieses Projekts ist es, die Zusammenhänge zwischen den Eigenschaften einer Wohnung und den Bewohnerkategorien zu modellieren. Wir verwenden ein Bayes-Netz, um Wahrscheinlichkeiten vorherzusagen, auch wenn einige Informationen unvollständig sind.\n",
    "\n",
    "## Übersicht\n",
    "- **Datensatzbeschreibung**: Einführung in die Datenstruktur und Herausforderungen (z. B. unausgeglichene Klassen).\n",
    "- **Vorverarbeitung**: Bereinigung und Transformation der Daten.\n",
    "- **Modellaufbau**: Definition des Bayes-Netzes und Training.\n",
    "- **Evaluierung**: Beispiele und Ergebnisse.\n",
    "\n",
    "---"
   ],
   "id": "5dc47a2736e15d9a"
  },
  {
   "metadata": {
    "ExecuteTime": {
     "end_time": "2024-12-20T08:05:36.187211Z",
     "start_time": "2024-12-20T08:05:35.428635Z"
    }
   },
   "cell_type": "code",
   "source": [
    "import pandas as pd\n",
    "from data_cleaning.text_to_numeric import get_zimmer, get_stockwerk, get_heizung, get_kindergarten, get_schule, get_bahn, get_miete, get_nebenkosten, get_alter, get_lage, get_kaution, get_kueche, get_bad, get_mobliert, get_quadratmeter\n",
    "from combined_mass.combined_mass import calculate_combined_mass"
   ],
   "id": "349e06c85500308",
   "outputs": [],
   "execution_count": 2
  },
  {
   "metadata": {},
   "cell_type": "markdown",
   "source": [
    "### Erläuterung:\n",
    "- **Bewohnerkategorie**: Der Datensatz enthält mehrere Spalten, mit verschiedenen Bewohnergruppen, wie DINK (Double Income No Kids) aber auch Alleinerziehend und Studierende, die die Zugehörigkeit zu einer Kategorie angeben. Diese werden in einer neuen Spalte `Bewohnerkategorie` zusammengefasst.\n",
    "- **Datenbereinigung**: Um den Datensatz korrekt nutzen zu können, müssen wir den Fließtext durch Zahlen ersetzen, damit die KI mit diesen Daten arbeiten kann. Dafür werden \"nein\" und \"ja\" in numerische Werte (0 und 1) umgewandelt. Werte wo es mehr als ein Wert gibt wie bei der Miete, wurde die Mitte der beiden Werte genommen. Dies Funktioniert über unser Python Skript \"data_cleaning.py\"."
   ],
   "id": "c98edf56368a46f2"
  },
  {
   "metadata": {
    "ExecuteTime": {
     "end_time": "2024-12-20T08:05:53.795415Z",
     "start_time": "2024-12-20T08:05:53.762835Z"
    }
   },
   "cell_type": "code",
   "source": [
    "file_path = '../../data/Wohnungen_1.csv'  # Gegebenen Datensatz einlesen\n",
    "data = pd.read_csv(file_path, sep=';')\n",
    "\n",
    "# Bewohnerkategorie bestimmen\n",
    "bewohnerkategorie = ['Studierende', 'Kleinfamilie', 'DINK', 'Alleinerziehende', 'Expatriate', 'Rentnerpaar']\n",
    "\n",
    "data['Bewohnerkategorie'] = data[bewohnerkategorie].apply(lambda row: 'Keine' if all(row == 'nein') else ', '.join(row[row == 'ja'].index), axis=1)\n",
    "\n",
    "# Bereinigung der Daten\n",
    "data = data[data['Bewohnerkategorie'] != 'Keine']\n",
    "\n",
    "# Spalten, in denen \"nein\" durch 0 und \"ja\" durch 1 ersetzt werden sollen\n",
    "columns_to_replace = [\"Hausmeister\", \"Garage\", \"Aufzug\", \"Balkon\", \"Terrasse\", \"Kehrwoche\"]\n",
    "\n",
    "# Ersetze \"nein\" und \"ja\" in den angegebenen Spalten\n",
    "data[columns_to_replace] = data[columns_to_replace].replace({'nein': 0, 'ja': 1})\n",
    "\n",
    "data['Zimmerzahl'] = data['Zimmerzahl'].apply(get_zimmer)\n",
    "data['Stockwerk'] = data['Stockwerk'].apply(get_stockwerk)\n",
    "data['Heizung'] = data['Heizung'].apply(get_heizung)\n",
    "data['Kindergarten'] = data['Kindergarten'].apply(get_kindergarten)\n",
    "data['Schule'] = data['Schule'].apply(get_schule)\n",
    "data['S-Bahn'] = data['S-Bahn'].apply(get_bahn)\n",
    "data['Miete'] = data['Miete'].apply(get_miete)\n",
    "data['Nebenkosten'] = data['Nebenkosten'].apply(get_nebenkosten)\n",
    "data['Alter'] = data['Alter'].apply(get_alter)\n",
    "data['Lage'] = data['Lage'].apply(get_lage)\n",
    "data['Kaution'] = data['Kaution'].apply(get_kaution)\n",
    "data['Kueche'] = data['Kueche'].apply(get_kueche)\n",
    "data['Bad'] = data['Bad'].apply(get_bad)\n",
    "data['Moebliert'] = data['Moebliert'].apply(get_mobliert)\n",
    "data['Quadratmeter'] = data['Quadratmeter'].apply(get_quadratmeter)\n",
    "\n",
    "print(data.head())"
   ],
   "id": "2deecae3b01e060",
   "outputs": [
    {
     "name": "stdout",
     "output_type": "stream",
     "text": [
      "    Zimmerzahl  Stockwerk  Heizung  Hausmeister  Kindergarten  Schule  S-Bahn  \\\n",
      "11           2          0        0            0             1       2       4   \n",
      "13           2          0        5            0             2       2       3   \n",
      "23           2          1        4            1             1       2       4   \n",
      "27           0          0        1            0             1       0       0   \n",
      "40           0          8        5            0             0       2       2   \n",
      "\n",
      "    Garage  Miete  Nebenkosten  ...  Kehrwoche  Moebliert  Quadratmeter  \\\n",
      "11       0    726          276  ...          0          0           116   \n",
      "13       1    726          226  ...          0          0           106   \n",
      "23       0    776          276  ...          0          0           116   \n",
      "27       0    226           50  ...          0          0            25   \n",
      "40       0    226           50  ...          0          0            36   \n",
      "\n",
      "    Studierende  Kleinfamilie  DINK  Alleinerziehende  Expatriate  \\\n",
      "11         nein            ja  nein              nein        nein   \n",
      "13         nein            ja  nein              nein        nein   \n",
      "23         nein            ja  nein              nein        nein   \n",
      "27           ja          nein  nein              nein        nein   \n",
      "40           ja          nein  nein              nein        nein   \n",
      "\n",
      "    Rentnerpaar  Bewohnerkategorie  \n",
      "11         nein       Kleinfamilie  \n",
      "13         nein       Kleinfamilie  \n",
      "23         nein       Kleinfamilie  \n",
      "27         nein        Studierende  \n",
      "40         nein        Studierende  \n",
      "\n",
      "[5 rows x 28 columns]\n"
     ]
    },
    {
     "name": "stderr",
     "output_type": "stream",
     "text": [
      "/tmp/ipykernel_5996/1043316277.py:16: FutureWarning: Downcasting behavior in `replace` is deprecated and will be removed in a future version. To retain the old behavior, explicitly call `result.infer_objects(copy=False)`. To opt-in to the future behavior, set `pd.set_option('future.no_silent_downcasting', True)`\n",
      "  data[columns_to_replace] = data[columns_to_replace].replace({'nein': 0, 'ja': 1})\n"
     ]
    }
   ],
   "execution_count": 4
  },
  {
   "metadata": {},
   "cell_type": "markdown",
   "source": [
    "### Modelle erstellen und trainieren\n",
    "Wir bestimmen zuerst die Menge Omega mit den Attributen die zu bestimmen sind, also die Bewohnerkategorie."
   ],
   "id": "7285b4d577330d6"
  },
  {
   "cell_type": "code",
   "id": "initial_id",
   "metadata": {
    "collapsed": true,
    "ExecuteTime": {
     "end_time": "2024-12-20T08:06:11.185582Z",
     "start_time": "2024-12-20T08:06:11.183041Z"
    }
   },
   "source": "omega = ['Studierende', 'Kleinfamilie', 'DINK', 'Alleinerziehende', 'Expatriate', 'Rentnerpaar']",
   "outputs": [],
   "execution_count": 5
  },
  {
   "metadata": {},
   "cell_type": "markdown",
   "source": "Jetzt können wir ein Beispiel angeben mit Attributen. WIe im Beispiel darunter wo man schauen kann mit `'Schule': get_schule(\"nah\")`. Die kombinierte Evidenz wird dann durch die Funktion `calculate_combined_mass()` berechnet die diese durch unsere gereinigten Daten, den gegebenen Attributen und des Omegas berechnet wird. Am Ende wird durch die Methode `max_bel()` das Attribut aus Omega wiedergegeben die die Maximalste Glaubwürdigkeit von allen hat.",
   "id": "c9f22b5a9577844b"
  },
  {
   "metadata": {
    "ExecuteTime": {
     "end_time": "2024-12-20T08:12:57.927388Z",
     "start_time": "2024-12-20T08:12:57.910379Z"
    }
   },
   "cell_type": "code",
   "source": [
    "# Gegebene Attribut-Wert-Kombinationen\\n\",\n",
    "attributes_values = {\n",
    "    'Kindergarten': get_kindergarten(\"nah\"),\n",
    "    'Schule': get_schule(\"nah\"),\n",
    "    'Miete': get_miete(\"251-300\"),\n",
    "    'Nebenkosten': get_nebenkosten(\"ueber 300\"),\n",
    "    'Kaution': get_kaution(\"keine\"),\n",
    "    'Kueche': get_kueche(\"keine\"),\n",
    "}\n",
    "\n",
    "# Berechne die kombinierte Evidenz\\n\",\n",
    "combined_mass = calculate_combined_mass(data, attributes_values, omega)\n",
    "\n",
    "# Ausgabe der kombinierten Evidenz\n",
    "print(\"Kombinierte Evidenz:\", combined_mass)\n",
    "\n",
    "# Wahrscheinlichste Hypothese basierend auf der kombinierten Evidenz\n",
    "most_likely = combined_mass.max_bel()  # Maximale Glaubwürdigkeit\n",
    "\n",
    "# Extrahiere den Namen der Bewohnerklasse aus dem frozenset\n",
    "if isinstance(most_likely, frozenset):\n",
    "    most_likely = next(iter(most_likely), None)  # Extrahiere das einzige Element oder None, falls leer\n",
    "\n",
    "print(\"Am wahrscheinlichsten ist:\", most_likely)"
   ],
   "id": "bab40bab0c83b9bc",
   "outputs": [
    {
     "name": "stdout",
     "output_type": "stream",
     "text": [
      "Basismaße für Kindergarten=2: {set():0.6417910447761195; {'Kleinfamilie'}:0.23880597014925373; {'Studierende'}:0.05970149253731343; {'DINK'}:0.04477611940298507; {'Expatriate'}:0.014925373134328358; {'Alleinerziehende'}:0.0; {'Rentnerpaar'}:0.0}\n",
      "Basismaße für Schule=2: {{'Kleinfamilie'}:0.5223880597014925; set():0.35820895522388063; {'Studierende'}:0.1044776119402985; {'DINK'}:0.014925373134328358; {'Alleinerziehende'}:0.0; {'Expatriate'}:0.0; {'Rentnerpaar'}:0.0}\n",
      "Kombinierte Evidenz: {{'Kleinfamilie'}:0.9475465313028765; {'Studierende'}:0.047377326565143825; {'DINK'}:0.005076142131979696; {'Alleinerziehende'}:0.0; {'Expatriate'}:0.0; {'Rentnerpaar'}:0.0}\n",
      "Basismaße für Miete=276: {set():0.8208955223880597; {'Studierende'}:0.1791044776119403; {'Kleinfamilie'}:0.0; {'DINK'}:0.0; {'Alleinerziehende'}:0.0; {'Expatriate'}:0.0; {'Rentnerpaar'}:0.0}\n",
      "Kombinierte Evidenz: {{'Studierende'}:1.0; {'Kleinfamilie'}:0.0; {'DINK'}:0.0; {'Alleinerziehende'}:0.0; {'Expatriate'}:0.0; {'Rentnerpaar'}:0.0}\n",
      "Basismaße für Nebenkosten=276: {set():0.8656716417910448; {'Kleinfamilie'}:0.08955223880597014; {'DINK'}:0.04477611940298507; {'Studierende'}:0.0; {'Alleinerziehende'}:0.0; {'Expatriate'}:0.0; {'Rentnerpaar'}:0.0}\n",
      "Konflikt erkannt: Keine gemeinsame Hypothese zwischen den Massen.\n",
      "Basismaße für Kaution=0: {set():0.5522388059701493; {'Studierende'}:0.23880597014925373; {'Kleinfamilie'}:0.14925373134328357; {'DINK'}:0.05970149253731343; {'Alleinerziehende'}:0.0; {'Expatriate'}:0.0; {'Rentnerpaar'}:0.0}\n",
      "Kombinierte Evidenz: {}\n",
      "Basismaße für Kueche=0: {set():0.9552238805970149; {'Kleinfamilie'}:0.029850746268656716; {'DINK'}:0.014925373134328358; {'Studierende'}:0.0; {'Alleinerziehende'}:0.0; {'Expatriate'}:0.0; {'Rentnerpaar'}:0.0}\n",
      "Kombinierte Evidenz: {}\n",
      "Kombinierte Evidenz: {}\n",
      "Am wahrscheinlichsten ist: None\n"
     ]
    }
   ],
   "execution_count": 21
  }
 ],
 "metadata": {
  "kernelspec": {
   "display_name": "Python 3",
   "language": "python",
   "name": "python3"
  },
  "language_info": {
   "codemirror_mode": {
    "name": "ipython",
    "version": 2
   },
   "file_extension": ".py",
   "mimetype": "text/x-python",
   "name": "python",
   "nbconvert_exporter": "python",
   "pygments_lexer": "ipython2",
   "version": "2.7.6"
  }
 },
 "nbformat": 4,
 "nbformat_minor": 5
}
