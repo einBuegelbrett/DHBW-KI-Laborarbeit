{
 "cells": [
  {
   "metadata": {
    "ExecuteTime": {
<<<<<<< HEAD
     "end_time": "2024-12-18T23:17:57.900704Z",
     "start_time": "2024-12-18T23:17:57.279007Z"
=======
     "end_time": "2024-12-18T18:58:55.129939Z",
     "start_time": "2024-12-18T18:58:55.113099Z"
>>>>>>> origin/main
    }
   },
   "cell_type": "code",
   "source": [
    "from pyds import MassFunction\n",
    "import pandas as pd\n",
    "from data_cleaning.data_cleaning import get_zimmer, get_stockwerk, get_heizung, get_kindergarten, get_schule, get_bahn, get_miete, get_nebenkosten, get_alter, get_lage, get_kaution, get_kueche, get_bad, get_mobliert, get_quadratmeter\n",
    "from data_cleaning.basismaße import calculate_combined_mass"
   ],
   "id": "349e06c85500308",
<<<<<<< HEAD
   "outputs": [],
   "execution_count": 1
=======
   "outputs": [
    {
     "ename": "ImportError",
     "evalue": "cannot import name 'MassFunction' from 'pyds' (C:\\Users\\cardu\\Documents\\DHBW\\DHBW-KI-Laborarbeit\\.venv\\Lib\\site-packages\\pyds.py)",
     "output_type": "error",
     "traceback": [
      "\u001B[1;31m---------------------------------------------------------------------------\u001B[0m",
      "\u001B[1;31mImportError\u001B[0m                               Traceback (most recent call last)",
      "Cell \u001B[1;32mIn[20], line 1\u001B[0m\n\u001B[1;32m----> 1\u001B[0m \u001B[38;5;28;01mfrom\u001B[39;00m \u001B[38;5;21;01mpyds\u001B[39;00m \u001B[38;5;28;01mimport\u001B[39;00m MassFunction\n\u001B[0;32m      2\u001B[0m \u001B[38;5;28;01mimport\u001B[39;00m \u001B[38;5;21;01mpandas\u001B[39;00m \u001B[38;5;28;01mas\u001B[39;00m \u001B[38;5;21;01mpd\u001B[39;00m\n\u001B[0;32m      3\u001B[0m \u001B[38;5;28;01mfrom\u001B[39;00m \u001B[38;5;21;01mdata_cleaning\u001B[39;00m\u001B[38;5;21;01m.\u001B[39;00m\u001B[38;5;21;01mdata_cleaning\u001B[39;00m \u001B[38;5;28;01mimport\u001B[39;00m get_zimmer, get_stockwerk, get_heizung, get_kindergarten, get_schule, get_bahn, get_miete, get_nebenkosten, get_alter, get_lage, get_kaution, get_kueche, get_bad, get_mobliert, get_quadratmeter\n",
      "\u001B[1;31mImportError\u001B[0m: cannot import name 'MassFunction' from 'pyds' (C:\\Users\\cardu\\Documents\\DHBW\\DHBW-KI-Laborarbeit\\.venv\\Lib\\site-packages\\pyds.py)"
     ]
    }
   ],
   "execution_count": 20
>>>>>>> origin/main
  },
  {
   "metadata": {
    "ExecuteTime": {
     "end_time": "2024-12-18T23:17:59.628322Z",
     "start_time": "2024-12-18T23:17:59.602634Z"
    }
   },
   "cell_type": "code",
   "source": [
    "file_path = '../../data/Wohnungen_1.csv'  # Gegebenen Datensatz einlesen\n",
    "data = pd.read_csv(file_path, sep=';')\n",
    "\n",
    "# Bewohnerkategorie bestimmen\n",
    "bewohnerkategorie = ['Studierende', 'Kleinfamilie', 'DINK', 'Alleinerziehende', 'Expatriate', 'Rentnerpaar']\n",
    "data['Bewohnerkategorie'] = data[bewohnerkategorie].apply(lambda row: 'Keine' if all(row == 'nein') else ', '.join(row[row == 'ja'].index), axis=1)\n",
    "\n",
    "# Bereinigung der Daten\n",
    "data = data[data['Bewohnerkategorie'] != 'Keine']\n",
    "\n",
    "# Spalten, in denen \"nein\" durch 0 und \"ja\" durch 1 ersetzt werden sollen\n",
    "columns_to_replace = [\"Hausmeister\", \"Garage\", \"Aufzug\", \"Balkon\", \"Terrasse\", \"Kehrwoche\"]\n",
    "\n",
    "# Ersetze \"nein\" und \"ja\" in den angegebenen Spalten\n",
    "data[columns_to_replace] = data[columns_to_replace].replace({'nein': 0, 'ja': 1})\n",
    "\n",
    "data['Zimmerzahl'] = data['Zimmerzahl'].apply(get_zimmer)\n",
    "data['Stockwerk'] = data['Stockwerk'].apply(get_stockwerk)\n",
    "data['Heizung'] = data['Heizung'].apply(get_heizung)\n",
    "data['Kindergarten'] = data['Kindergarten'].apply(get_kindergarten)\n",
    "data['Schule'] = data['Schule'].apply(get_schule)\n",
    "data['S-Bahn'] = data['S-Bahn'].apply(get_bahn)\n",
    "data['Miete'] = data['Miete'].apply(get_miete)\n",
    "data['Nebenkosten'] = data['Nebenkosten'].apply(get_nebenkosten)\n",
    "data['Alter'] = data['Alter'].apply(get_alter)\n",
    "data['Lage'] = data['Lage'].apply(get_lage)\n",
    "data['Kaution'] = data['Kaution'].apply(get_kaution)\n",
    "data['Kueche'] = data['Kueche'].apply(get_kueche)\n",
    "data['Bad'] = data['Bad'].apply(get_bad)\n",
    "data['Moebliert'] = data['Moebliert'].apply(get_mobliert)\n",
    "data['Quadratmeter'] = data['Quadratmeter'].apply(get_quadratmeter)\n",
    "\n",
    "print(data.head())"
   ],
   "id": "2deecae3b01e060",
   "outputs": [
    {
     "name": "stdout",
     "output_type": "stream",
     "text": [
      "11                                   Kleinfamilie\n",
      "13                                   Kleinfamilie\n",
      "23                                   Kleinfamilie\n",
      "27                                    Studierende\n",
      "40                                    Studierende\n",
      "46                                    Studierende\n",
      "49                                           DINK\n",
      "62                             Kleinfamilie, DINK\n",
      "66                                     Expatriate\n",
      "72     Studierende, Alleinerziehende, Rentnerpaar\n",
      "74                                    Studierende\n",
      "92                                   Kleinfamilie\n",
      "110                                   Studierende\n",
      "112                                  Kleinfamilie\n",
      "114                                  Kleinfamilie\n",
      "133                                          DINK\n",
      "134                                   Studierende\n",
      "158    Studierende, Alleinerziehende, Rentnerpaar\n",
      "163                                          DINK\n",
      "168                                   Studierende\n",
      "183                                  Kleinfamilie\n",
      "185                                          DINK\n",
      "190                                  Kleinfamilie\n",
      "194                                          DINK\n",
      "213                                  Kleinfamilie\n",
      "218                                  Kleinfamilie\n",
      "220                                          DINK\n",
      "221                                  Kleinfamilie\n",
      "226                                  Kleinfamilie\n",
      "233                                    Expatriate\n",
      "234                                          DINK\n",
      "250                                  Kleinfamilie\n",
      "253                                  Kleinfamilie\n",
      "258                                   Studierende\n",
      "262                                  Kleinfamilie\n",
      "268                                  Kleinfamilie\n",
      "285                                  Kleinfamilie\n",
      "301                                  Kleinfamilie\n",
      "303                                   Studierende\n",
      "304                                   Studierende\n",
      "312                                   Studierende\n",
      "313                                  Kleinfamilie\n",
      "324                                          DINK\n",
      "344                                          DINK\n",
      "352                                  Kleinfamilie\n",
      "362                                   Studierende\n",
      "370                                  Kleinfamilie\n",
      "383                                          DINK\n",
      "390                                   Studierende\n",
      "393                                  Kleinfamilie\n",
      "404                                  Kleinfamilie\n",
      "408                                  Kleinfamilie\n",
      "409    Studierende, Alleinerziehende, Rentnerpaar\n",
      "411                                  Kleinfamilie\n",
      "423                                   Studierende\n",
      "430                                  Kleinfamilie\n",
      "438                                  Kleinfamilie\n",
      "441                                  Kleinfamilie\n",
      "459                                  Kleinfamilie\n",
      "460                                  Kleinfamilie\n",
      "470                                  Kleinfamilie\n",
      "474                                  Kleinfamilie\n",
      "477                                   Studierende\n",
      "478                                  Kleinfamilie\n",
      "489                                  Kleinfamilie\n",
      "490                                   Studierende\n",
      "499                                  Kleinfamilie\n",
      "Name: Bewohnerkategorie, dtype: object\n",
      "    Zimmerzahl  Stockwerk  Heizung  Hausmeister  Kindergarten  Schule  S-Bahn  \\\n",
      "11           2          0        0            0             1       2       4   \n",
      "13           2          0        5            0             2       2       3   \n",
      "23           2          1        4            1             1       2       4   \n",
      "27           0          0        1            0             1       0       0   \n",
      "40           0          8        5            0             0       2       2   \n",
      "\n",
      "    Garage  Miete  Nebenkosten  ...  Kehrwoche  Moebliert  Quadratmeter  \\\n",
      "11       0    726          276  ...          0          0           116   \n",
      "13       1    726          226  ...          0          0           106   \n",
      "23       0    776          276  ...          0          0           116   \n",
      "27       0    226           50  ...          0          0            25   \n",
      "40       0    226           50  ...          0          0            36   \n",
      "\n",
      "    Studierende  Kleinfamilie  DINK  Alleinerziehende  Expatriate  \\\n",
      "11         nein            ja  nein              nein        nein   \n",
      "13         nein            ja  nein              nein        nein   \n",
      "23         nein            ja  nein              nein        nein   \n",
      "27           ja          nein  nein              nein        nein   \n",
      "40           ja          nein  nein              nein        nein   \n",
      "\n",
      "    Rentnerpaar  Bewohnerkategorie  \n",
      "11         nein       Kleinfamilie  \n",
      "13         nein       Kleinfamilie  \n",
      "23         nein       Kleinfamilie  \n",
      "27         nein        Studierende  \n",
      "40         nein        Studierende  \n",
      "\n",
      "[5 rows x 28 columns]\n"
     ]
    },
    {
     "name": "stderr",
     "output_type": "stream",
     "text": [
      "/tmp/ipykernel_2529/4203448027.py:19: FutureWarning: Downcasting behavior in `replace` is deprecated and will be removed in a future version. To retain the old behavior, explicitly call `result.infer_objects(copy=False)`. To opt-in to the future behavior, set `pd.set_option('future.no_silent_downcasting', True)`\n",
      "  data[columns_to_replace] = data[columns_to_replace].replace({'nein': 0, 'ja': 1})\n"
     ]
    }
   ],
   "execution_count": 3
  },
  {
   "cell_type": "code",
   "id": "initial_id",
   "metadata": {
    "collapsed": true,
    "ExecuteTime": {
     "end_time": "2024-12-18T23:18:02.631521Z",
     "start_time": "2024-12-18T23:18:02.629468Z"
    }
   },
   "source": "omega = ['Studierende', 'Kleinfamilie', 'DINK', 'Alleinerziehende', 'Expatriate', 'Rentnerpaar']",
   "outputs": [],
   "execution_count": 4
  },
  {
   "metadata": {
    "ExecuteTime": {
     "end_time": "2024-12-18T22:07:15.252758Z",
     "start_time": "2024-12-18T22:07:15.250325Z"
    }
   },
   "cell_type": "code",
   "source": [
    "# mass_hausmeister = calculate_basismaße_multivalue(data, 'Hausmeister', omega)\n",
    "# print(\"Basismaße für Hausmeister:\", mass_hausmeister)"
   ],
   "id": "3aa71ea7e5bcbec9",
   "outputs": [],
   "execution_count": 4
  },
  {
   "metadata": {
    "ExecuteTime": {
     "end_time": "2024-12-18T23:22:29.263343Z",
     "start_time": "2024-12-18T23:22:29.251708Z"
    }
   },
   "cell_type": "code",
   "source": [
    "# Kombiniere Basismaße (z. B. Garage und Zimmerkategorie)\n",
    "# combined_mass = mass_garage & mass_aufzug\n",
    "# print(\"Kombinierte Evidenz:\", combined_mass)\n",
    "\n",
    "# Wahrscheinlichste Hypothese auswählen\n",
    "# most_likely = combined_mass.max_bel()\n",
    "# print(\"Am wahrscheinlichsten ist:\", most_likely)\n",
    "\n",
    "# Gegebene Attribut-Wert-Kombinationen\n",
    "attributes_values = {\n",
    "    'Zimmerzahl': 0,\n",
    "    'Stockwerk': 4,\n",
    "    'Schule': 2,\n",
    "    'Moebliert': 0\n",
    "}\n",
    "\n",
    "# Berechne die kombinierte Evidenz\n",
    "combined_mass = calculate_combined_mass(data, attributes_values, omega)\n",
    "\n",
    "# Ausgabe der kombinierten Evidenz\n",
    "print(\"Kombinierte Evidenz:\", combined_mass)\n",
    "\n",
    "# Wahrscheinlichste Hypothese basierend auf der kombinierten Evidenz\n",
    "most_likely = combined_mass.max_bel()  # Maximale Glaubwürdigkeit\n",
    "print(\"Am wahrscheinlichsten ist:\", most_likely)\n"
   ],
   "id": "bab40bab0c83b9bc",
   "outputs": [
    {
     "name": "stdout",
     "output_type": "stream",
     "text": [
      "Basismaße für Zimmerzahl=0: {set():0.7611940298507462; {'Studierende'}:0.23880597014925373; {'Kleinfamilie'}:0.0; {'DINK'}:0.0; {'Alleinerziehende'}:0.0; {'Expatriate'}:0.0; {'Rentnerpaar'}:0.0}\n",
      "Basismaße für Stockwerk=4: {set():0.9104477611940298; {'Kleinfamilie'}:0.04477611940298507; {'Studierende'}:0.029850746268656716; {'Expatriate'}:0.014925373134328358; {'DINK'}:0.0; {'Alleinerziehende'}:0.0; {'Rentnerpaar'}:0.0}\n",
      "Basismaße für Schule=2: {{'Kleinfamilie'}:0.5223880597014925; set():0.35820895522388063; {'Studierende'}:0.1044776119402985; {'DINK'}:0.014925373134328358; {'Alleinerziehende'}:0.0; {'Expatriate'}:0.0; {'Rentnerpaar'}:0.0}\n",
      "Basismaße für Moebliert=0: {{'Kleinfamilie'}:0.5223880597014925; {'Studierende'}:0.23880597014925373; {'DINK'}:0.13432835820895522; set():0.10447761194029859; {'Alleinerziehende'}:0.0; {'Expatriate'}:0.0; {'Rentnerpaar'}:0.0}\n",
      "Kombinierte Evidenz: {{'Studierende'}:1.0; {'Kleinfamilie'}:0.0; {'DINK'}:0.0; {'Alleinerziehende'}:0.0; {'Expatriate'}:0.0; {'Rentnerpaar'}:0.0}\n",
      "Am wahrscheinlichsten ist: frozenset({'Studierende'})\n"
     ]
    }
   ],
   "execution_count": 16
  }
 ],
 "metadata": {
  "kernelspec": {
   "display_name": "Python 3",
   "language": "python",
   "name": "python3"
  },
  "language_info": {
   "codemirror_mode": {
    "name": "ipython",
    "version": 2
   },
   "file_extension": ".py",
   "mimetype": "text/x-python",
   "name": "python",
   "nbconvert_exporter": "python",
   "pygments_lexer": "ipython2",
   "version": "2.7.6"
  }
 },
 "nbformat": 4,
 "nbformat_minor": 5
}
