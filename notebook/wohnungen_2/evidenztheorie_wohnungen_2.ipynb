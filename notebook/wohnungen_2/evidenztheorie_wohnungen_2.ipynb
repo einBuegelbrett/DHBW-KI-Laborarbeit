{
 "cells": [
  {
   "metadata": {},
   "cell_type": "markdown",
   "source": [
    "# Evidenztheorie für Datensatz \"wohnungen_1.csv\"\n",
    "\n",
    "## Vorbereitung\n",
    "Zuerst importieren wir die benötigten Bilbiotheken und Funktionen."
   ],
   "id": "90516124b94f6d6e"
  },
  {
   "cell_type": "code",
   "id": "initial_id",
   "metadata": {
    "collapsed": true,
    "ExecuteTime": {
     "end_time": "2024-12-19T14:09:50.147571Z",
     "start_time": "2024-12-19T14:09:49.398494Z"
    }
   },
   "source": [
    "import pandas as pd\n",
    "from data_cleaning.text_to_numeric import get_zimmer, get_stockwerk, get_kindergarten, get_schule, get_bahn, get_miete, get_nebenkosten, get_alter, get_stadtmitte, get_kaution, get_kueche, get_bad, get_mobliert, get_quadratmeter\n",
    "from combined_mass.combined_mass import calculate_combined_mass"
   ],
   "outputs": [],
   "execution_count": 1
  },
  {
   "metadata": {},
   "cell_type": "markdown",
   "source": [
    "## Reinigung des Datensatzes\n",
    "\n",
    "Um das Datensatz korrekt benutzen zu können, müssen wir den fließtext durch Zahlen ersetzen damit die KI mit diesen Daten arbeiten kann. Dafür laden wir zuerst die CSV-Datei, dann entfernen wir die Zeilen wo keine Bewohnerklasse ist und verwenden anschließend die Funktionen aus der `data_cleaning.py` um den ganzen Fließtext der Datei in Zahlen umzuwandeln."
   ],
   "id": "3f47a3aabb9e05b9"
  },
  {
   "metadata": {
    "ExecuteTime": {
     "end_time": "2024-12-19T14:09:51.566462Z",
     "start_time": "2024-12-19T14:09:51.529544Z"
    }
   },
   "cell_type": "code",
   "source": [
    "file_path = '../../data/Wohnungen_2.csv'\n",
    "data = pd.read_csv(file_path, sep=';')\n",
    "\n",
    "bewohnerkategorie = [\"Studierende\", \"Kleinfamilie\", \"DINK\", \"SingleHighIncome\", \"Expatriate\", \"Rentnerpaar\"]\n",
    "data['Bewohnerkategorie'] = data[bewohnerkategorie].apply(lambda row: 'Keine' if all(row == 'nein') else row.idxmax(), axis=1)\n",
    "\n",
    "data = data[data['Bewohnerkategorie'] != 'Keine']\n",
    "\n",
    "columns_to_replace = [\"Hausmeister\", \"Garage\", \"Aufzug\", \"Balkon\", \"Terrasse\", \"Kehrwoche\"]\n",
    "\n",
    "data[columns_to_replace] = data[columns_to_replace].replace({'nein': 0, 'ja': 1})\n",
    "\n",
    "data['Zimmerzahl'] = data['Zimmerzahl'].apply(get_zimmer)\n",
    "data['Stockwerk'] = data['Stockwerk'].apply(get_stockwerk)\n",
    "data['Kindergarten'] = data['Kindergarten'].apply(get_kindergarten)\n",
    "data['Schule'] = data['Schule'].apply(get_schule)\n",
    "data['S-Bahn'] = data['S-Bahn'].apply(get_bahn)\n",
    "data['Miete'] = data['Miete'].apply(get_miete)\n",
    "data['Nebenkosten'] = data['Nebenkosten'].apply(get_nebenkosten)\n",
    "data['Alter'] = data['Alter'].apply(get_alter)\n",
    "data['Entfernung zur Stadtmitte'] = data['Entfernung zur Stadtmitte'].apply(get_stadtmitte)\n",
    "data['Kaution'] = data['Kaution'].apply(get_kaution)\n",
    "data['Kueche'] = data['Kueche'].apply(get_kueche)\n",
    "data['Bad'] = data['Bad'].apply(get_bad)\n",
    "data['Moebliert'] = data['Moebliert'].apply(get_mobliert)\n",
    "data['Quadratmeter'] = data['Quadratmeter'].apply(get_quadratmeter)\n",
    "\n",
    "print(data.head())"
   ],
   "id": "c1f376faf0b5067f",
   "outputs": [
    {
     "name": "stdout",
     "output_type": "stream",
     "text": [
      "    Zimmerzahl  Stockwerk  Hausmeister  Kindergarten  Schule  S-Bahn  Garage  \\\n",
      "3            0          3            1             2       0       0       0   \n",
      "4            2          4            0             1       2       0       0   \n",
      "6            2          1            0             2       2       3       0   \n",
      "7            2          0            0             2       2       3       1   \n",
      "16           0          4            0             0       2       2       1   \n",
      "\n",
      "    Miete  Nebenkosten  Alter  ...  Kehrwoche  Moebliert  Quadratmeter  \\\n",
      "3     276           50     63  ...          0          0            25   \n",
      "4     626          226     18  ...          0          0            96   \n",
      "6     626          226      6  ...          0          0            96   \n",
      "7     726          226      0  ...          0          0           106   \n",
      "16    276           75     26  ...          1          0            25   \n",
      "\n",
      "    Studierende  Kleinfamilie  DINK  SingleHighIncome  Expatriate  \\\n",
      "3            ja          nein  nein              nein        nein   \n",
      "4          nein            ja  nein              nein        nein   \n",
      "6          nein            ja  nein              nein        nein   \n",
      "7          nein            ja  nein              nein        nein   \n",
      "16           ja          nein  nein              nein        nein   \n",
      "\n",
      "    Rentnerpaar  Bewohnerkategorie  \n",
      "3          nein       Kleinfamilie  \n",
      "4          nein        Studierende  \n",
      "6          nein        Studierende  \n",
      "7          nein        Studierende  \n",
      "16         nein       Kleinfamilie  \n",
      "\n",
      "[5 rows x 27 columns]\n"
     ]
    },
    {
     "name": "stderr",
     "output_type": "stream",
     "text": [
      "/tmp/ipykernel_3681/2299712992.py:11: FutureWarning: Downcasting behavior in `replace` is deprecated and will be removed in a future version. To retain the old behavior, explicitly call `result.infer_objects(copy=False)`. To opt-in to the future behavior, set `pd.set_option('future.no_silent_downcasting', True)`\n",
      "  data[columns_to_replace] = data[columns_to_replace].replace({'nein': 0, 'ja': 1})\n"
     ]
    }
   ],
   "execution_count": 2
  },
  {
   "metadata": {},
   "cell_type": "markdown",
   "source": [
    "## Anwendung der künstlichen Intelligenz\n",
    "\n",
    "Jetzt bestimmen wir die Menge Omega mit den Attributen die zu bestimmen sind, also die Bewohnerkategorie."
   ],
   "id": "ef3a6d05736ff6b8"
  },
  {
   "metadata": {
    "ExecuteTime": {
     "end_time": "2024-12-19T14:10:02.099439Z",
     "start_time": "2024-12-19T14:10:02.096845Z"
    }
   },
   "cell_type": "code",
   "source": "omega = [\"Studierende\", \"Kleinfamilie\", \"DINK\", \"SingleHighIncome\", \"Expatriate\", \"Rentnerpaar\"]",
   "id": "efd5f7a058d8dde4",
   "outputs": [],
   "execution_count": 3
  },
  {
   "metadata": {},
   "cell_type": "markdown",
   "source": "Jetzt können wir ein Beispiel angeben mit Attributen. WIe im Beispiel darunter wo man schauen kann mit `'Schule': get_schule(\"nah\")`. Die kombinierte Evidenz wird dann durch die Funktion `calculate_combined_mass()` berechnet die diese durch unsere gereinigten Daten, den gegebenen Attributen und des Omegas berechnet wird. Am Ende wird durch die Methode `max_bel()` das Attribut aus Omega wiedergegeben die die Maximalste Glaubwürdigkeit von allen hat.",
   "id": "e5c17140c995961d"
  },
  {
   "metadata": {
    "ExecuteTime": {
     "end_time": "2024-12-19T14:10:04.095977Z",
     "start_time": "2024-12-19T14:10:03.931945Z"
    }
   },
   "cell_type": "code",
   "source": [
    "# Gegebene Attribut-Wert-Kombinationen\\n\",\n",
    "attributes_values = {\n",
    "    'Zimmerzahl': 0,\n",
    "    'Stockwerk': 3,\n",
    "    'Schule': get_schule(\"nah\"),\n",
    "}\n",
    "\n",
    "# Berechne die kombinierte Evidenz\n",
    "combined_mass = calculate_combined_mass(data, attributes_values, omega)\n",
    "\n",
    "# Ausgabe der kombinierten Evidenz\n",
    "print(\"Kombinierte Evidenz:\", combined_mass)\n",
    "\n",
    "# Ausgabe der Glaubwürdigkeit (Belief) für alle Hypothesen\n",
    "print(\"\\nGlaubwürdigkeit für alle Hypothesen:\")\n",
    "for hypothesis in combined_mass.get_hypotheses():\n",
    "    belief = combined_mass.bel(hypothesis)\n",
    "    print(f\"Hypothese: {hypothesis}, Glaubwürdigkeit: {belief:.4f}\")\n",
    "\n",
    "# Wahrscheinlichste Hypothese basierend auf der kombinierten Evidenz\n",
    "most_likely = combined_mass.max_bel()  # Maximale Glaubwürdigkeit\n",
    "\n",
    "print(\"Am wahrscheinlichsten ist:\", most_likely)"
   ],
   "id": "c1a3e2385312fd79",
   "outputs": [
    {
     "name": "stdout",
     "output_type": "stream",
     "text": [
      "Basismaße für Zimmerzahl=0: {set():0.7837837837837838; {'Kleinfamilie'}:0.21621621621621623; {'Studierende'}:0.0; {'DINK'}:0.0; {'SingleHighIncome'}:0.0; {'Expatriate'}:0.0; {'Rentnerpaar'}:0.0}\n",
      "Basismaße für Stockwerk=3: {set():0.8378378378378378; {'Studierende'}:0.10810810810810811; {'Kleinfamilie'}:0.05405405405405406; {'DINK'}:0.0; {'SingleHighIncome'}:0.0; {'Expatriate'}:0.0; {'Rentnerpaar'}:0.0}\n",
      "Basismaße für Schule=2: {{'Studierende'}:0.5675675675675675; set():0.33783783783783783; {'Kleinfamilie'}:0.0945945945945946; {'DINK'}:0.0; {'SingleHighIncome'}:0.0; {'Expatriate'}:0.0; {'Rentnerpaar'}:0.0}\n",
      "Kombinierte Evidenz: {{'Kleinfamilie'}:1.0; {'Studierende'}:0.0; {'DINK'}:0.0; {'SingleHighIncome'}:0.0; {'Expatriate'}:0.0; {'Rentnerpaar'}:0.0}\n",
      "\n",
      "Glaubwürdigkeit für alle Hypothesen:\n"
     ]
    },
    {
     "ename": "AttributeError",
     "evalue": "'MassFunction' object has no attribute 'get_hypotheses'",
     "output_type": "error",
     "traceback": [
      "\u001B[0;31m---------------------------------------------------------------------------\u001B[0m",
      "\u001B[0;31mAttributeError\u001B[0m                            Traceback (most recent call last)",
      "Cell \u001B[0;32mIn[4], line 16\u001B[0m\n\u001B[1;32m     14\u001B[0m \u001B[38;5;66;03m# Ausgabe der Glaubwürdigkeit (Belief) für alle Hypothesen\u001B[39;00m\n\u001B[1;32m     15\u001B[0m \u001B[38;5;28mprint\u001B[39m(\u001B[38;5;124m\"\u001B[39m\u001B[38;5;130;01m\\n\u001B[39;00m\u001B[38;5;124mGlaubwürdigkeit für alle Hypothesen:\u001B[39m\u001B[38;5;124m\"\u001B[39m)\n\u001B[0;32m---> 16\u001B[0m \u001B[38;5;28;01mfor\u001B[39;00m hypothesis \u001B[38;5;129;01min\u001B[39;00m \u001B[43mcombined_mass\u001B[49m\u001B[38;5;241;43m.\u001B[39;49m\u001B[43mget_hypotheses\u001B[49m():\n\u001B[1;32m     17\u001B[0m     belief \u001B[38;5;241m=\u001B[39m combined_mass\u001B[38;5;241m.\u001B[39mbel(hypothesis)\n\u001B[1;32m     18\u001B[0m     \u001B[38;5;28mprint\u001B[39m(\u001B[38;5;124mf\u001B[39m\u001B[38;5;124m\"\u001B[39m\u001B[38;5;124mHypothese: \u001B[39m\u001B[38;5;132;01m{\u001B[39;00mhypothesis\u001B[38;5;132;01m}\u001B[39;00m\u001B[38;5;124m, Glaubwürdigkeit: \u001B[39m\u001B[38;5;132;01m{\u001B[39;00mbelief\u001B[38;5;132;01m:\u001B[39;00m\u001B[38;5;124m.4f\u001B[39m\u001B[38;5;132;01m}\u001B[39;00m\u001B[38;5;124m\"\u001B[39m)\n",
      "\u001B[0;31mAttributeError\u001B[0m: 'MassFunction' object has no attribute 'get_hypotheses'"
     ]
    }
   ],
   "execution_count": 4
  }
 ],
 "metadata": {
  "kernelspec": {
   "display_name": "Python 3",
   "language": "python",
   "name": "python3"
  },
  "language_info": {
   "codemirror_mode": {
    "name": "ipython",
    "version": 2
   },
   "file_extension": ".py",
   "mimetype": "text/x-python",
   "name": "python",
   "nbconvert_exporter": "python",
   "pygments_lexer": "ipython2",
   "version": "2.7.6"
  }
 },
 "nbformat": 4,
 "nbformat_minor": 5
}
