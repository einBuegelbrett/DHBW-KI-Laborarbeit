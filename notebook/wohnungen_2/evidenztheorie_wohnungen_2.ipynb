{
 "cells": [
  {
   "metadata": {},
   "cell_type": "markdown",
   "source": [
    "# Evidenz zur Klassifikation von Wohnungsbewohnerkategorien (Datensatz \"wohnungen_2.csv\")\n",
    "Dieses Notebook stellt ein Modell auf Basis der Evidenztheorie vor, das verwendet wird, um die Bewohnerkategorie einer Wohnung basierend auf den Merkmalen der Wohnung zu klassifizieren.\n",
    "\n",
    "## Ziel\n",
    "Das Ziel dieses Projekts ist es, die Zusammenhänge zwischen den Eigenschaften einer Wohnung und den Bewohnerkategorien zu modellieren. Wir verwenden die Evidenztheorie, um Wahrscheinlichkeiten vorherzusagen, auch wenn einige Informationen unvollständig sind.\n",
    "\n",
    "---\n",
    "\n",
    "## Vorbereitung\n",
    "Zuerst werden die benötigten Bibliotheken importiert."
   ],
   "id": "90516124b94f6d6e"
  },
  {
   "cell_type": "code",
   "id": "initial_id",
   "metadata": {
    "collapsed": true,
    "ExecuteTime": {
     "end_time": "2024-12-20T14:15:56.867270Z",
     "start_time": "2024-12-20T14:15:56.865125Z"
    }
   },
   "source": [
    "import pandas as pd\n",
    "from data_cleaning.text_to_numeric import get_zimmer, get_stockwerk, get_kindergarten, get_schule, get_bahn, get_miete, \\\n",
    "    get_nebenkosten, get_alter, get_stadtmitte, get_kaution, get_kueche, get_bad, get_mobliert, get_quadratmeter, \\\n",
    "    get_yes_no\n",
    "from combined_mass.combined_mass import calculate_combined_mass"
   ],
   "outputs": [],
   "execution_count": 8
  },
  {
   "metadata": {},
   "cell_type": "markdown",
   "source": [
    "## Reinigung des Datensatzes\n",
    "- **Bewohnerkategorie**: Der Datensatz enthält mehrere Spalten, mit anderen Bewohnergruppen als in `wohnungen_1.csv`. Und Zwar gibt es jetzt die Bewohnerkategorie \"SingleHighIncome\" anstatt \"Alleinerziehende\". Diese werden in einer neuen Spalte `Bewohnerkategorie` zusammengefasst.\n",
    "- **Wohnungsattribute**: Der Datensatz enthält auch neue Attribute wie \"Entfernung zur Stadtmitte\", die bereinigt werden müssen. Ansonsten gibt es Attribute wie \"Heizung\" nicht mehr, die in `wohnungen_1.csv` vorhanden waren. Die anderen Attribute wurden jedoch beibehalten.\n",
    "- **Datenbereinigung**: Um den Datensatz korrekt nutzen zu können, müssen wir den Fließtext durch Zahlen ersetzen, damit die KI mit diesen Daten arbeiten kann. Dafür werden \"nein\" und \"ja\" in numerische Werte (0 und 1) umgewandelt. Werte wo es mehr als ein Wert gibt wie bei der Miete, wurde der Mittelwert (gerundet) der beiden Werte genommen. Diese Funktionen sind in `data_cleaning/text_to_numeric.py` zu finden. In dieser Python-Datei wurden weitere Funktionen für diesen Datensatz hinzugefügt, um neu hinzugekommene Attribute wie \"Entfernung zur Stadtmitte\" zu bereinigen."
   ],
   "id": "3f47a3aabb9e05b9"
  },
  {
   "metadata": {
    "ExecuteTime": {
     "end_time": "2024-12-20T14:15:59.213299Z",
     "start_time": "2024-12-20T14:15:59.187188Z"
    }
   },
   "cell_type": "code",
   "source": [
    "file_path = '../../data/Wohnungen_2.csv'\n",
    "data = pd.read_csv(file_path, sep=';') # Gegebenen Datensatz einlesen\n",
    "\n",
    "# Bewohnerkategorie bestimmen\n",
    "bewohnerkategorie = ['Studierende', 'Kleinfamilie', 'DINK', 'SingleHighIncome', 'Expatriate', 'Rentnerpaar']\n",
    "data['Bewohnerkategorie'] = data[bewohnerkategorie].apply(lambda row: 'Keine' if all(row == 'nein') else ', '.join(row[row == 'ja'].index), axis=1)\n",
    "\n",
    "# Löschen von Daten, die nicht kategorisiert sind (dazu später mehr)\n",
    "data = data[data['Bewohnerkategorie'] != 'Keine']\n",
    "\n",
    "# Spalten, in denen \"nein\" durch 0 und \"ja\" durch 1 ersetzt werden sollen\n",
    "columns_to_replace = [\"Hausmeister\", \"Garage\", \"Aufzug\", \"Balkon\", \"Terrasse\", \"Kehrwoche\"]\n",
    "\n",
    "# Ersetze \"nein\" und \"ja\" in den angegebenen Spalten\n",
    "pd.set_option('future.no_silent_downcasting', True)\n",
    "data[columns_to_replace] = data[columns_to_replace].replace({'nein': 0, 'ja': 1}).infer_objects(copy=False)\n",
    "\n",
    "# Fließtext durch Ganzzahl ersetzen\n",
    "data['Zimmerzahl'] = data['Zimmerzahl'].apply(get_zimmer)\n",
    "data['Stockwerk'] = data['Stockwerk'].apply(get_stockwerk)\n",
    "data['Kindergarten'] = data['Kindergarten'].apply(get_kindergarten)\n",
    "data['Schule'] = data['Schule'].apply(get_schule)\n",
    "data['S-Bahn'] = data['S-Bahn'].apply(get_bahn)\n",
    "data['Miete'] = data['Miete'].apply(get_miete)\n",
    "data['Nebenkosten'] = data['Nebenkosten'].apply(get_nebenkosten)\n",
    "data['Alter'] = data['Alter'].apply(get_alter)\n",
    "data['Entfernung zur Stadtmitte'] = data['Entfernung zur Stadtmitte'].apply(get_stadtmitte)\n",
    "data['Kaution'] = data['Kaution'].apply(get_kaution)\n",
    "data['Kueche'] = data['Kueche'].apply(get_kueche)\n",
    "data['Bad'] = data['Bad'].apply(get_bad)\n",
    "data['Moebliert'] = data['Moebliert'].apply(get_mobliert)\n",
    "data['Quadratmeter'] = data['Quadratmeter'].apply(get_quadratmeter)\n",
    "\n",
    "print(data.head())"
   ],
   "id": "c1f376faf0b5067f",
   "outputs": [
    {
     "name": "stdout",
     "output_type": "stream",
     "text": [
      "    Zimmerzahl  Stockwerk  Hausmeister  Kindergarten  Schule  S-Bahn  Garage  \\\n",
      "3            0          3            1             2       0       0       0   \n",
      "4            2          4            0             1       2       0       0   \n",
      "6            2          1            0             2       2       3       0   \n",
      "7            2          0            0             2       2       3       1   \n",
      "16           0          4            0             0       2       2       1   \n",
      "\n",
      "    Miete  Nebenkosten  Alter  ...  Kehrwoche  Moebliert  Quadratmeter  \\\n",
      "3     276           50     63  ...          0          0            25   \n",
      "4     626          226     18  ...          0          0            96   \n",
      "6     626          226      6  ...          0          0            96   \n",
      "7     726          226      0  ...          0          0           106   \n",
      "16    276           75     26  ...          1          0            25   \n",
      "\n",
      "    Studierende  Kleinfamilie  DINK  SingleHighIncome  Expatriate  \\\n",
      "3            ja          nein  nein              nein        nein   \n",
      "4          nein            ja  nein              nein        nein   \n",
      "6          nein            ja  nein              nein        nein   \n",
      "7          nein            ja  nein              nein        nein   \n",
      "16           ja          nein  nein              nein        nein   \n",
      "\n",
      "    Rentnerpaar  Bewohnerkategorie  \n",
      "3          nein        Studierende  \n",
      "4          nein       Kleinfamilie  \n",
      "6          nein       Kleinfamilie  \n",
      "7          nein       Kleinfamilie  \n",
      "16         nein        Studierende  \n",
      "\n",
      "[5 rows x 27 columns]\n"
     ]
    }
   ],
   "execution_count": 9
  },
  {
   "metadata": {},
   "cell_type": "markdown",
   "source": [
    "### Modelle erstellen und trainieren\n",
    "Zuerst wird die Menge Omega mit den zu bestimmenden Attributen, d.h. der Bewohnerkategorie, bestimmt. Hier ist im gegensatz zum ersten Datensatz die Bewohnerkategorie \"SingleHighIncome\" anstatt \"Alleinerziehende\" hinzugekommen."
   ],
   "id": "ef3a6d05736ff6b8"
  },
  {
   "metadata": {
    "ExecuteTime": {
     "end_time": "2024-12-20T14:16:02.807222Z",
     "start_time": "2024-12-20T14:16:02.805240Z"
    }
   },
   "cell_type": "code",
   "source": "omega = [\"Studierende\", \"Kleinfamilie\", \"DINK\", \"SingleHighIncome\", \"Expatriate\", \"Rentnerpaar\"]",
   "id": "efd5f7a058d8dde4",
   "outputs": [],
   "execution_count": 10
  },
  {
   "metadata": {},
   "cell_type": "markdown",
   "source": "Wie in `evidenztheorie_wohnungen_1.ipynb` wird die Funktion `calculate_combined_mass()` verwendet, um die wahrscheinlichste Bewohnerkategorie zu ermitteln. Unten ist ein Beispiel mit dem neuen Attribut \"Entfernung zur Stadtmitte\".",
   "id": "e5c17140c995961d"
  },
  {
   "metadata": {
    "ExecuteTime": {
     "end_time": "2024-12-20T14:16:12.960054Z",
     "start_time": "2024-12-20T14:16:12.949082Z"
    }
   },
   "cell_type": "code",
   "source": [
    "# Gegebene Attributkombinationen\n",
    "attributes_values = {\n",
    "    'Stockwerk': get_stockwerk(\"EG\"),\n",
    "    'Entfernung zur Stadtmitte': get_stadtmitte(\"> 30 km\"),\n",
    "    'Kaution': get_kaution(\"1000-1500\"),\n",
    "    'Kueche': get_kueche(\"Kueche (neu)\")\n",
    "}\n",
    "\n",
    "# Berechnung der kombinierten Evidenz (Unsicherheit ist auch enthalten)\n",
    "combined_mass = calculate_combined_mass(data, attributes_values, omega)\n",
    "\n",
    "# Ausgabe der kombinierten Evidenz\n",
    "print(\"Kombinierte Evidenz:\", combined_mass)\n",
    "\n",
    "# Wahrscheinlichste Hypothese basierend auf der kombinierten Evidenz\n",
    "most_likely = combined_mass.max_bel()\n",
    "\n",
    "# Extrahiere den Namen der Bewohnerklasse aus dem frozenset\n",
    "if isinstance(most_likely, frozenset):\n",
    "    most_likely = next(iter(most_likely), None)  # Extrahiere das einzige Element oder None, falls leer\n",
    "\n",
    "print(\"\\nAm wahrscheinlichsten ist:\", most_likely)"
   ],
   "id": "c1a3e2385312fd79",
   "outputs": [
    {
     "name": "stdout",
     "output_type": "stream",
     "text": [
      "Basismaße für Stockwerk=0: {set():0.6621621621621622; {'Kleinfamilie'}:0.21621621621621623; {'Studierende'}:0.08108108108108109; {'DINK'}:0.013513513513513514; {'SingleHighIncome'}:0.013513513513513514; {'Expatriate'}:0.013513513513513514; {'Rentnerpaar'}:0.0}\n",
      "Basismaße für Entfernung zur Stadtmitte=30: {set():0.8783783783783784; {'Kleinfamilie'}:0.0945945945945946; {'Studierende'}:0.013513513513513514; {'SingleHighIncome'}:0.013513513513513514; {'DINK'}:0.0; {'Expatriate'}:0.0; {'Rentnerpaar'}:0.0}\n",
      "Kombinierte Evidenz: {{'Kleinfamilie'}:0.9411764705882353; {'Studierende'}:0.05042016806722689; {'SingleHighIncome'}:0.008403361344537816; {'DINK'}:0.0; {'Expatriate'}:0.0; {'Rentnerpaar'}:0.0}\n",
      "Basismaße für Kaution=1250: {set():0.9324324324324325; {'Kleinfamilie'}:0.02702702702702703; {'DINK'}:0.02702702702702703; {'SingleHighIncome'}:0.013513513513513514; {'Studierende'}:0.0; {'Expatriate'}:0.0; {'Rentnerpaar'}:0.0}\n",
      "Kombinierte Evidenz: {{'Kleinfamilie'}:0.9955555555555556; {'SingleHighIncome'}:0.004444444444444445; {'Studierende'}:0.0; {'DINK'}:0.0; {'Expatriate'}:0.0; {'Rentnerpaar'}:0.0}\n",
      "Basismaße für Kueche=2: {set():0.8918918918918919; {'Kleinfamilie'}:0.05405405405405406; {'DINK'}:0.02702702702702703; {'Studierende'}:0.013513513513513514; {'SingleHighIncome'}:0.013513513513513514; {'Expatriate'}:0.0; {'Rentnerpaar'}:0.0}\n",
      "Kombinierte Evidenz: {{'Kleinfamilie'}:0.9988851727982162; {'SingleHighIncome'}:0.0011148272017837235; {'Studierende'}:0.0; {'DINK'}:0.0; {'Expatriate'}:0.0; {'Rentnerpaar'}:0.0}\n",
      "Kombinierte Evidenz: {{'Kleinfamilie'}:0.9988851727982162; {'SingleHighIncome'}:0.0011148272017837235; {'Studierende'}:0.0; {'DINK'}:0.0; {'Expatriate'}:0.0; {'Rentnerpaar'}:0.0}\n",
      "\n",
      "Am wahrscheinlichsten ist: Kleinfamilie\n"
     ]
    }
   ],
   "execution_count": 11
  },
  {
   "metadata": {},
   "cell_type": "markdown",
   "source": "Auch hier ist die Evidenz 0 möglich, wenn die Basismaße nicht übereinstimmen. Dies wird im folgenden Beispiel veranschaulicht.",
   "id": "7bbc3a4ae0c524ac"
  },
  {
   "metadata": {
    "ExecuteTime": {
     "end_time": "2024-12-20T14:16:46.487977Z",
     "start_time": "2024-12-20T14:16:46.477270Z"
    }
   },
   "cell_type": "code",
   "source": [
    "attributes_values = {\n",
    "    'Aufzug': get_yes_no(\"ja\"),\n",
    "    'Miete': get_miete(\"251-300\"),\n",
    "    'Nebenkosten': get_nebenkosten(\"ueber 300\"),\n",
    "    'Entfernung zur Stadtmitte': get_stadtmitte(\"Zentrum\"),\n",
    "}\n",
    "\n",
    "combined_mass = calculate_combined_mass(data, attributes_values, omega)\n",
    "print(\"Kombinierte Evidenz:\", combined_mass)\n",
    "most_likely = combined_mass.max_bel()\n",
    "\n",
    "if isinstance(most_likely, frozenset):\n",
    "    most_likely = next(iter(most_likely), None)\n",
    "\n",
    "print(\"\\nAm wahrscheinlichsten ist:\", most_likely)"
   ],
   "id": "26c02d1642cf650",
   "outputs": [
    {
     "name": "stdout",
     "output_type": "stream",
     "text": [
      "Basismaße für Aufzug=1: {set():0.5540540540540541; {'Kleinfamilie'}:0.20270270270270271; {'DINK'}:0.13513513513513514; {'Studierende'}:0.0945945945945946; {'Expatriate'}:0.013513513513513514; {'SingleHighIncome'}:0.0; {'Rentnerpaar'}:0.0}\n",
      "Basismaße für Miete=276: {set():0.8108108108108107; {'Studierende'}:0.1891891891891892; {'Kleinfamilie'}:0.0; {'DINK'}:0.0; {'SingleHighIncome'}:0.0; {'Expatriate'}:0.0; {'Rentnerpaar'}:0.0}\n",
      "Kombinierte Evidenz: {{'Studierende'}:1.0; {'Kleinfamilie'}:0.0; {'DINK'}:0.0; {'SingleHighIncome'}:0.0; {'Expatriate'}:0.0; {'Rentnerpaar'}:0.0}\n",
      "Basismaße für Nebenkosten=300: {set():0.9324324324324325; {'DINK'}:0.04054054054054054; {'Kleinfamilie'}:0.02702702702702703; {'Studierende'}:0.0; {'SingleHighIncome'}:0.0; {'Expatriate'}:0.0; {'Rentnerpaar'}:0.0}\n",
      "Konflikt erkannt: Keine gemeinsame Hypothese zwischen den Massen.\n",
      "Basismaße für Entfernung zur Stadtmitte=0: {set():0.7837837837837838; {'Studierende'}:0.0945945945945946; {'Kleinfamilie'}:0.0945945945945946; {'DINK'}:0.02702702702702703; {'SingleHighIncome'}:0.0; {'Expatriate'}:0.0; {'Rentnerpaar'}:0.0}\n",
      "Kombinierte Evidenz: {}\n",
      "Kombinierte Evidenz: {}\n",
      "\n",
      "Am wahrscheinlichsten ist: None\n"
     ]
    }
   ],
   "execution_count": 13
  }
 ],
 "metadata": {
  "kernelspec": {
   "display_name": "Python 3",
   "language": "python",
   "name": "python3"
  },
  "language_info": {
   "codemirror_mode": {
    "name": "ipython",
    "version": 2
   },
   "file_extension": ".py",
   "mimetype": "text/x-python",
   "name": "python",
   "nbconvert_exporter": "python",
   "pygments_lexer": "ipython2",
   "version": "2.7.6"
  }
 },
 "nbformat": 4,
 "nbformat_minor": 5
}
