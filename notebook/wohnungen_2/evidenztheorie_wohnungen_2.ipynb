{
 "cells": [
  {
   "metadata": {},
   "cell_type": "markdown",
   "source": [
    "# Evidenz zur Klassifikation von Wohnungsbewohnerkategorien (Datensatz \"wohnungen_2.csv\")\n",
    "Dieses Notebook stellt ein Modell auf Basis der Evidenztheorie vor, das verwendet wird, um die Bewohnerkategorie einer Wohnung basierend auf den Merkmalen der Wohnung zu klassifizieren.\n",
    "\n",
    "## Ziel\n",
    "Das Ziel dieses Projekts ist es, die Zusammenhänge zwischen den Eigenschaften einer Wohnung und den Bewohnerkategorien zu modellieren. Wir verwenden die Evidenztheorie, um Wahrscheinlichkeiten vorherzusagen, auch wenn einige Informationen unvollständig sind.\n",
    "\n",
    "## Übersicht\n",
    "- **Datensatzbeschreibung**: Einführung in die Datenstruktur und Herausforderungen (z. B. unausgeglichene Klassen).\n",
    "- **Vorverarbeitung**: Bereinigung und Transformation der Daten.\n",
    "- **Modellaufbau**: Definition der Evidenztheorie und Anwendung.\n",
    "- **Evaluierung**: Beispiele und Ergebnisse.\n",
    "\n",
    "---\n",
    "\n",
    "## Vorbereitung\n",
    "Zuerst werden die benötigten Bibliotheken importiert."
   ],
   "id": "90516124b94f6d6e"
  },
  {
   "cell_type": "code",
   "id": "initial_id",
   "metadata": {
    "collapsed": true,
    "ExecuteTime": {
     "end_time": "2024-12-20T10:55:28.151167Z",
     "start_time": "2024-12-20T10:55:27.494287Z"
    }
   },
   "source": [
    "import pandas as pd\n",
    "from data_cleaning.text_to_numeric import get_zimmer, get_stockwerk, get_kindergarten, get_schule, get_bahn, get_miete, get_nebenkosten, get_alter, get_stadtmitte, get_kaution, get_kueche, get_bad, get_mobliert, get_quadratmeter\n",
    "from combined_mass.combined_mass import calculate_combined_mass"
   ],
   "outputs": [],
   "execution_count": 1
  },
  {
   "metadata": {},
   "cell_type": "markdown",
   "source": [
    "## Reinigung des Datensatzes\n",
    "- **Bewohnerkategorie**: Der Datensatz enthält mehrere Spalten, mit anderen Bewohnergruppen als in `wohnungen_1.csv`. Und Zwar gibt es jetzt die Bewohnerkategorie \"SingleHighIncome\" anstatt \"Alleinerziehende\". Diese werden in einer neuen Spalte `Bewohnerkategorie` zusammengefasst.\n",
    "- **Wohnungsattribute**: Der Datensatz enthält auch neue Attribute wie \"Entfernung zur Stadtmitte\", die bereinigt werden müssen. Ansonsten gibt es Attribute wie \"Heizung\" nicht mehr, die in `wohnungen_1.csv` vorhanden waren. Die anderen Attribute wurden jedoch beibehalten.\n",
    "- **Datenbereinigung**: Um den Datensatz korrekt nutzen zu können, müssen wir den Fließtext durch Zahlen ersetzen, damit die KI mit diesen Daten arbeiten kann. Dafür werden \"nein\" und \"ja\" in numerische Werte (0 und 1) umgewandelt. Werte wo es mehr als ein Wert gibt wie bei der Miete, wurde die Mitte der beiden Werte genommen. Dies Funktioniert über unser Python Skript \"data_cleaning.py\". Es wurden in diesem Skript weitere Funktionen hinzugefügt, um neu dazu gekommene Attribute wie \"Entfernung zur Stadtmitte\" zu bereinigen."
   ],
   "id": "3f47a3aabb9e05b9"
  },
  {
   "metadata": {
    "ExecuteTime": {
     "end_time": "2024-12-20T10:55:29.919290Z",
     "start_time": "2024-12-20T10:55:29.888740Z"
    }
   },
   "cell_type": "code",
   "source": [
    "file_path = '../../data/Wohnungen_2.csv'\n",
    "data = pd.read_csv(file_path, sep=';')\n",
    "\n",
    "bewohnerkategorie = [\"Studierende\", \"Kleinfamilie\", \"DINK\", \"SingleHighIncome\", \"Expatriate\", \"Rentnerpaar\"]\n",
    "data['Bewohnerkategorie'] = data[bewohnerkategorie].apply(lambda row: 'Keine' if all(row == 'nein') else row.idxmax(), axis=1)\n",
    "\n",
    "data = data[data['Bewohnerkategorie'] != 'Keine']\n",
    "\n",
    "columns_to_replace = [\"Hausmeister\", \"Garage\", \"Aufzug\", \"Balkon\", \"Terrasse\", \"Kehrwoche\"]\n",
    "\n",
    "pd.set_option('future.no_silent_downcasting', True)\n",
    "data[columns_to_replace] = data[columns_to_replace].replace({'nein': 0, 'ja': 1})\n",
    "\n",
    "data['Zimmerzahl'] = data['Zimmerzahl'].apply(get_zimmer)\n",
    "data['Stockwerk'] = data['Stockwerk'].apply(get_stockwerk)\n",
    "data['Kindergarten'] = data['Kindergarten'].apply(get_kindergarten)\n",
    "data['Schule'] = data['Schule'].apply(get_schule)\n",
    "data['S-Bahn'] = data['S-Bahn'].apply(get_bahn)\n",
    "data['Miete'] = data['Miete'].apply(get_miete)\n",
    "data['Nebenkosten'] = data['Nebenkosten'].apply(get_nebenkosten)\n",
    "data['Alter'] = data['Alter'].apply(get_alter)\n",
    "data['Entfernung zur Stadtmitte'] = data['Entfernung zur Stadtmitte'].apply(get_stadtmitte)\n",
    "data['Kaution'] = data['Kaution'].apply(get_kaution)\n",
    "data['Kueche'] = data['Kueche'].apply(get_kueche)\n",
    "data['Bad'] = data['Bad'].apply(get_bad)\n",
    "data['Moebliert'] = data['Moebliert'].apply(get_mobliert)\n",
    "data['Quadratmeter'] = data['Quadratmeter'].apply(get_quadratmeter)\n",
    "\n",
    "print(data.head())"
   ],
   "id": "c1f376faf0b5067f",
   "outputs": [
    {
     "name": "stdout",
     "output_type": "stream",
     "text": [
      "    Zimmerzahl  Stockwerk Hausmeister  Kindergarten  Schule  S-Bahn Garage  \\\n",
      "3            0          3           1             2       0       0      0   \n",
      "4            2          4           0             1       2       0      0   \n",
      "6            2          1           0             2       2       3      0   \n",
      "7            2          0           0             2       2       3      1   \n",
      "16           0          4           0             0       2       2      1   \n",
      "\n",
      "    Miete  Nebenkosten  Alter  ... Kehrwoche  Moebliert  Quadratmeter  \\\n",
      "3     276           50     63  ...         0          0            25   \n",
      "4     626          226     18  ...         0          0            96   \n",
      "6     626          226      6  ...         0          0            96   \n",
      "7     726          226      0  ...         0          0           106   \n",
      "16    276           75     26  ...         1          0            25   \n",
      "\n",
      "    Studierende  Kleinfamilie  DINK SingleHighIncome Expatriate  Rentnerpaar  \\\n",
      "3            ja          nein  nein             nein       nein         nein   \n",
      "4          nein            ja  nein             nein       nein         nein   \n",
      "6          nein            ja  nein             nein       nein         nein   \n",
      "7          nein            ja  nein             nein       nein         nein   \n",
      "16           ja          nein  nein             nein       nein         nein   \n",
      "\n",
      "    Bewohnerkategorie  \n",
      "3        Kleinfamilie  \n",
      "4         Studierende  \n",
      "6         Studierende  \n",
      "7         Studierende  \n",
      "16       Kleinfamilie  \n",
      "\n",
      "[5 rows x 27 columns]\n"
     ]
    }
   ],
   "execution_count": 2
  },
  {
   "metadata": {},
   "cell_type": "markdown",
   "source": [
    "## Anwendung der künstlichen Intelligenz\n",
    "\n",
    "Jetzt bestimmen wir die Menge Omega mit den Attributen die zu bestimmen sind, also die Bewohnerkategorie."
   ],
   "id": "ef3a6d05736ff6b8"
  },
  {
   "metadata": {
    "ExecuteTime": {
     "end_time": "2024-12-20T10:55:59.071216Z",
     "start_time": "2024-12-20T10:55:59.068682Z"
    }
   },
   "cell_type": "code",
   "source": "omega = [\"Studierende\", \"Kleinfamilie\", \"DINK\", \"SingleHighIncome\", \"Expatriate\", \"Rentnerpaar\"]",
   "id": "efd5f7a058d8dde4",
   "outputs": [],
   "execution_count": 3
  },
  {
   "metadata": {},
   "cell_type": "markdown",
   "source": "Wie in `evidenztheorie_wohnungen_1.ipynb` verwenden wir die Funktion `calculate_combined_mass()` um daraus die Bewohnerkategorie die am wahrscheinlichsten ist rauszuziehen.",
   "id": "e5c17140c995961d"
  },
  {
   "metadata": {
    "ExecuteTime": {
     "end_time": "2024-12-20T10:58:35.524303Z",
     "start_time": "2024-12-20T10:58:35.513750Z"
    }
   },
   "cell_type": "code",
   "source": [
    "# Gegebene Attribut-Wert-Kombinationen\\n\",\n",
    "attributes_values = {\n",
    "    'Zimmerzahl': 0,\n",
    "    'Stockwerk': 3,\n",
    "    'Schule': get_schule(\"nah\"),\n",
    "}\n",
    "\n",
    "# Berechne die kombinierte Evidenz\n",
    "combined_mass = calculate_combined_mass(data, attributes_values, omega)\n",
    "\n",
    "# Ausgabe der kombinierten Evidenz\n",
    "print(\"Kombinierte Evidenz:\", combined_mass)\n",
    "\n",
    "# Wahrscheinlichste Hypothese basierend auf der kombinierten Evidenz\n",
    "most_likely = combined_mass.max_bel()  # Maximale Glaubwürdigkeit\n",
    "\n",
    "# Extrahiere den Namen der Bewohnerklasse aus dem frozenset\n",
    "if isinstance(most_likely, frozenset):\n",
    "    most_likely = next(iter(most_likely), None)  # Extrahiere das einzige Element oder None, falls leer\n",
    "\n",
    "print(\"Am wahrscheinlichsten ist:\", most_likely)"
   ],
   "id": "c1a3e2385312fd79",
   "outputs": [
    {
     "name": "stdout",
     "output_type": "stream",
     "text": [
      "Basismaße für Zimmerzahl=0: {set():0.7837837837837838; {'Kleinfamilie'}:0.21621621621621623; {'Studierende'}:0.0; {'DINK'}:0.0; {'SingleHighIncome'}:0.0; {'Expatriate'}:0.0; {'Rentnerpaar'}:0.0}\n",
      "Basismaße für Stockwerk=3: {set():0.8378378378378378; {'Studierende'}:0.10810810810810811; {'Kleinfamilie'}:0.05405405405405406; {'DINK'}:0.0; {'SingleHighIncome'}:0.0; {'Expatriate'}:0.0; {'Rentnerpaar'}:0.0}\n",
      "Kombinierte Evidenz: {{'Kleinfamilie'}:1.0; {'Studierende'}:0.0; {'DINK'}:0.0; {'SingleHighIncome'}:0.0; {'Expatriate'}:0.0; {'Rentnerpaar'}:0.0}\n",
      "Basismaße für Schule=2: {{'Studierende'}:0.5675675675675675; set():0.33783783783783783; {'Kleinfamilie'}:0.0945945945945946; {'DINK'}:0.0; {'SingleHighIncome'}:0.0; {'Expatriate'}:0.0; {'Rentnerpaar'}:0.0}\n",
      "Kombinierte Evidenz: {{'Kleinfamilie'}:1.0; {'Studierende'}:0.0; {'DINK'}:0.0; {'SingleHighIncome'}:0.0; {'Expatriate'}:0.0; {'Rentnerpaar'}:0.0}\n",
      "Kombinierte Evidenz: {{'Kleinfamilie'}:1.0; {'Studierende'}:0.0; {'DINK'}:0.0; {'SingleHighIncome'}:0.0; {'Expatriate'}:0.0; {'Rentnerpaar'}:0.0}\n",
      "Am wahrscheinlichsten ist: Kleinfamilie\n"
     ]
    }
   ],
   "execution_count": 5
  }
 ],
 "metadata": {
  "kernelspec": {
   "display_name": "Python 3",
   "language": "python",
   "name": "python3"
  },
  "language_info": {
   "codemirror_mode": {
    "name": "ipython",
    "version": 2
   },
   "file_extension": ".py",
   "mimetype": "text/x-python",
   "name": "python",
   "nbconvert_exporter": "python",
   "pygments_lexer": "ipython2",
   "version": "2.7.6"
  }
 },
 "nbformat": 4,
 "nbformat_minor": 5
}
