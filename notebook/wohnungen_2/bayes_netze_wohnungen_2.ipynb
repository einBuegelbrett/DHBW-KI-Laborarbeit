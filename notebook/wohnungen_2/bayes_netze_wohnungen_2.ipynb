{
 "cells": [
  {
   "cell_type": "code",
   "id": "initial_id",
   "metadata": {
    "collapsed": true,
    "ExecuteTime": {
     "end_time": "2024-12-20T02:58:39.115898Z",
     "start_time": "2024-12-20T02:58:30.227790Z"
    }
   },
   "source": [
    "import pandas as pd\n",
    "from pgmpy.models import BayesianNetwork\n",
    "from pgmpy.estimators import MaximumLikelihoodEstimator\n",
    "from pgmpy.inference import VariableElimination\n",
    "from data_cleaning.text_to_numeric import get_zimmer, get_stockwerk, get_kindergarten, get_schule, get_bahn, get_miete, get_nebenkosten, get_alter, get_kaution, get_stadtmitte, get_kueche, get_bad, get_mobliert, get_quadratmeter"
   ],
   "outputs": [],
   "execution_count": 1
  },
  {
   "metadata": {
    "ExecuteTime": {
     "end_time": "2024-12-20T03:04:50.075742Z",
     "start_time": "2024-12-20T03:04:50.024757Z"
    }
   },
   "cell_type": "code",
   "source": [
    "file_path = '../../data/Wohnungen_2.csv'\n",
    "data = pd.read_csv(file_path, sep=';')\n",
    "\n",
    "bewohnerkategorie = ['Studierende', 'Kleinfamilie', 'DINK', 'SingleHighIncome', 'Expatriate', 'Rentnerpaar']\n",
    "data['Bewohnerkategorie'] = data[bewohnerkategorie].apply(\n",
    "    lambda row: 'Keine' if all(row == 'nein') else ', '.join(row[row == 'ja'].index), axis=1)\n",
    "\n",
    "data = data[data['Bewohnerkategorie'] != 'Keine']\n",
    "\n",
    "columns_to_replace = [\"Hausmeister\", \"Garage\", \"Aufzug\", \"Balkon\", \"Terrasse\", \"Kehrwoche\"]\n",
    "\n",
    "data[columns_to_replace] = data[columns_to_replace].replace({'nein': 0, 'ja': 1})\n",
    "\n",
    "data['Zimmerzahl'] = data['Zimmerzahl'].apply(get_zimmer)\n",
    "data['Stockwerk'] = data['Stockwerk'].apply(get_stockwerk)\n",
    "data['Kindergarten'] = data['Kindergarten'].apply(get_kindergarten)\n",
    "data['Schule'] = data['Schule'].apply(get_schule)\n",
    "data['S-Bahn'] = data['S-Bahn'].apply(get_bahn)\n",
    "data['Miete'] = data['Miete'].apply(get_miete)\n",
    "data['Nebenkosten'] = data['Nebenkosten'].apply(get_nebenkosten)\n",
    "data['Alter'] = data['Alter'].apply(get_alter)\n",
    "data['Entfernung zur Stadtmitte'] = data['Entfernung zur Stadtmitte'].apply(get_stadtmitte)\n",
    "data['Kaution'] = data['Kaution'].apply(get_kaution)\n",
    "data['Kueche'] = data['Kueche'].apply(get_kueche)\n",
    "data['Bad'] = data['Bad'].apply(get_bad)\n",
    "data['Moebliert'] = data['Moebliert'].apply(get_mobliert)\n",
    "data['Quadratmeter'] = data['Quadratmeter'].apply(get_quadratmeter)\n",
    "#Code Cleaning"
   ],
   "id": "4ea35ba660a90560",
   "outputs": [
    {
     "name": "stderr",
     "output_type": "stream",
     "text": [
      "C:\\Users\\cardu\\AppData\\Local\\Temp\\ipykernel_16868\\4099255852.py:12: FutureWarning: Downcasting behavior in `replace` is deprecated and will be removed in a future version. To retain the old behavior, explicitly call `result.infer_objects(copy=False)`. To opt-in to the future behavior, set `pd.set_option('future.no_silent_downcasting', True)`\n",
      "  data[columns_to_replace] = data[columns_to_replace].replace({'nein': 0, 'ja': 1})\n"
     ]
    }
   ],
   "execution_count": 15
  },
  {
   "metadata": {
    "ExecuteTime": {
     "end_time": "2024-12-20T03:15:58.888712Z",
     "start_time": "2024-12-20T03:15:57.869425Z"
    }
   },
   "cell_type": "code",
   "source": [
    "#Data Processing and Training\n",
    "model = BayesianNetwork([\n",
    "    ('Hausmeister', 'Bewohnerkategorie'),\n",
    "    ('Kindergarten', 'Bewohnerkategorie'),\n",
    "    ('S-Bahn', 'Bewohnerkategorie'),\n",
    "    ('Garage', 'Bewohnerkategorie'),\n",
    "    ('Alter', 'Bewohnerkategorie'),\n",
    "    ('Aufzug', 'Bewohnerkategorie'),\n",
    "    ('Entfernung zur Stadtmitte', 'Bewohnerkategorie'),\n",
    "    ('Moebliert', 'Bewohnerkategorie'),\n",
    "    ('Quadratmeter', 'Bewohnerkategorie')\n",
    "])\n",
    "\n",
    "# Training des Bayes-Netzes\n",
    "model.fit(data, estimator=MaximumLikelihoodEstimator)\n",
    "# Inferenz durchführen\n",
    "inference = VariableElimination(model)\n"
   ],
   "id": "ce949f1c49b83677",
   "outputs": [],
   "execution_count": 25
  },
  {
   "metadata": {},
   "cell_type": "markdown",
   "source": [
    "### Beispiele für die Inferenz\n",
    "Wir vergleichen die Ergebnisse des Modells anhand der Beispiele \"example_single_high_income\", \"example_single_high_income2\", \"example_single_high_income3\". Hierbei wollen wir einmal ein Vergleich darstellen mit den Daten wo die Bewohnerkategorie \"SingleHighIncome\", Ja gesagt hat."
   ],
   "id": "10b2d82edfeacba0"
  },
  {
   "metadata": {
    "ExecuteTime": {
     "end_time": "2024-12-20T03:52:50.733494Z",
     "start_time": "2024-12-20T03:52:50.721617Z"
    }
   },
   "cell_type": "code",
   "source": [
    "#Example Input with get methods from data_cleaning.text_to_numeric\n",
    "example_single_high_income = {\n",
    "    \"Hausmeister\": 0,  # Hausmeister vorhanden\n",
    "    \"Kindergarten\": get_kindergarten(\"erreichbar\"),  # Keine Relevanz für Single High Income\n",
    "    \"S-Bahn\": get_bahn(\"nein\"),  # Sehr nah an der S-Bahn\n",
    "    \"Garage\": 1,  # Garage vorhanden\n",
    "    \"Alter\": get_alter(\"ueber 100\"),  # Neubau\n",
    "    \"Aufzug\": 0,  # Aufzug vorhanden\n",
    "    \"Entfernung zur Stadtmitte\": get_stadtmitte(\">30km\"),  # Zentrum aus den Daten\n",
    "    \"Moebliert\": get_mobliert(\"nein\"),  # Voll möbliert\n",
    "    \"Quadratmeter\": get_stadtmitte(\"71-80\")  # Beispiel aus Datei, Näherung\n",
    "}\n",
    "\n",
    "# Wahrscheinlichkeiten für jede Zielklasse berechnen\n",
    "prediction = inference.query(variables=[\"Bewohnerkategorie\"], evidence=example_single_high_income)\n",
    "\n",
    "# Wahrscheinlichkeiten in ein Dictionary umwandeln\n",
    "result = {str(state): float(prob) for state, prob in zip(prediction.state_names[\"Bewohnerkategorie\"], prediction.values)}\n",
    "\n",
    "# Ausgabe schön formatiert untereinander\n",
    "print(\"Wahrscheinlichkeiten für jede Bewohnerkategorie:\")\n",
    "for category, probability in result.items():\n",
    "    print(f\"{category}: {probability:.2%}\")"
   ],
   "id": "63be0eb644efb053",
   "outputs": [
    {
     "name": "stdout",
     "output_type": "stream",
     "text": [
      "Wahrscheinlichkeiten für jede Bewohnerkategorie:\n",
      "DINK: 0.00%\n",
      "Expatriate: 0.00%\n",
      "Kleinfamilie: 0.00%\n",
      "Kleinfamilie, DINK: 0.00%\n",
      "SingleHighIncome: 100.00%\n",
      "Studierende: 0.00%\n",
      "Studierende, Rentnerpaar: 0.00%\n"
     ]
    }
   ],
   "execution_count": 54
  },
  {
   "metadata": {
    "ExecuteTime": {
     "end_time": "2024-12-20T03:23:30.381508Z",
     "start_time": "2024-12-20T03:23:30.369070Z"
    }
   },
   "cell_type": "code",
   "source": [
    "example_single_high_income2 = {\n",
    "    \"Hausmeister\": 0,  # Hausmeister vorhanden\n",
    "    \"Kindergarten\": get_kindergarten(\"erreichbar\"),  # Keine Relevanz für Single High Income\n",
    "    \"Aufzug\": 0,  # Aufzug vorhanden\n",
    "    \"Entfernung zur Stadtmitte\": get_stadtmitte(\">30km\"),  # Zentrum aus den Daten\n",
    "    \"Moebliert\": get_mobliert(\"nein\"),  # Voll möbliert\n",
    "    \"Quadratmeter\": get_stadtmitte(\"71-80\")  # Beispiel aus Datei, Näherung\n",
    "}\n",
    "# Wahrscheinlichkeiten für jede Zielklasse berechnen\n",
    "prediction = inference.query(variables=[\"Bewohnerkategorie\"], evidence=example_single_high_income2)\n",
    "\n",
    "# Wahrscheinlichkeiten in ein Dictionary umwandeln\n",
    "result = {str(state): float(prob) for state, prob in zip(prediction.state_names[\"Bewohnerkategorie\"], prediction.values)}\n",
    "\n",
    "# Ausgabe schön formatiert untereinander\n",
    "print(\"Wahrscheinlichkeiten für jede Bewohnerkategorie:\")\n",
    "for category, probability in result.items():\n",
    "    print(f\"{category}: {probability:.2%}\")"
   ],
   "id": "28560398f783bf28",
   "outputs": [
    {
     "name": "stdout",
     "output_type": "stream",
     "text": [
      "Wahrscheinlichkeiten für jede Bewohnerkategorie:\n",
      "DINK: 14.20%\n",
      "Expatriate: 14.20%\n",
      "Kleinfamilie: 14.20%\n",
      "Kleinfamilie, DINK: 14.20%\n",
      "SingleHighIncome: 14.83%\n",
      "Studierende: 14.20%\n",
      "Studierende, Rentnerpaar: 14.20%\n"
     ]
    }
   ],
   "execution_count": 52
  },
  {
   "metadata": {
    "ExecuteTime": {
     "end_time": "2024-12-20T04:08:37.577668Z",
     "start_time": "2024-12-20T04:08:37.565466Z"
    }
   },
   "cell_type": "code",
   "source": [
    "example_single_high_income3 = {\n",
    "    \"Hausmeister\": 0,  # Hausmeister vorhanden\n",
    "    \"Kindergarten\": get_kindergarten(\"erreichbar\"),  # Keine Relevanz für Single High Income\n",
    "    \"S-Bahn\": get_bahn(\"erreichbar\"),  # Sehr nah an der S-Bahn\n",
    "    \"Garage\": 0,  # Garage vorhanden\n",
    "    \"Alter\": get_alter(\"51-75\"),  # Neubau\n",
    "    \"Aufzug\": 0,  # Aufzug vorhanden\n",
    "    \"Entfernung zur Stadtmitte\": get_stadtmitte(\">30km\"),  # Zentrum aus den Daten\n",
    "    \"Moebliert\": get_mobliert(\"nein\"),  # Voll möbliert\n",
    "    \"Quadratmeter\": get_stadtmitte(\"71-80\")  # Beispiel aus Datei, Näherung\n",
    "}\n",
    "\n",
    "# Wahrscheinlichkeiten für jede Zielklasse berechnen\n",
    "prediction = inference.query(variables=[\"Bewohnerkategorie\"], evidence=example_single_high_income3)\n",
    "\n",
    "# Wahrscheinlichkeiten in ein Dictionary umwandeln\n",
    "result = {str(state): float(prob) for state, prob in zip(prediction.state_names[\"Bewohnerkategorie\"], prediction.values)}\n",
    "\n",
    "# Ausgabe schön formatiert untereinander\n",
    "print(\"Wahrscheinlichkeiten für jede Bewohnerkategorie:\")\n",
    "for category, probability in result.items():\n",
    "    print(f\"{category}: {probability:.2%}\")"
   ],
   "id": "6c73f4962603b9c9",
   "outputs": [
    {
     "name": "stdout",
     "output_type": "stream",
     "text": [
      "Wahrscheinlichkeiten für jede Bewohnerkategorie:\n",
      "DINK: 14.29%\n",
      "Expatriate: 14.29%\n",
      "Kleinfamilie: 14.29%\n",
      "Kleinfamilie, DINK: 14.29%\n",
      "SingleHighIncome: 14.29%\n",
      "Studierende: 14.29%\n",
      "Studierende, Rentnerpaar: 14.29%\n"
     ]
    }
   ],
   "execution_count": 55
  },
  {
   "metadata": {},
   "cell_type": "markdown",
   "source": [
    "### Auswertung der Ergebnisse\n",
    "Wie zu erwarten war, hat das erste Beispiel eine 100% Wahrscheinlichkeit für die Bewohnerkategorie \"SingleHighIncome\" ergeben. Das Zweite Beispiel hingegen hatte trotz drei gelöschter Wohnungskategorien, noch immer die Höchste Wahrscheinlichkeit für die Bewohnerkategorie \"SingleHighIncome\" hat. Mit der Änderung das \"SingleHighIncome\" nur noch eine Wahrscheinlichkeit von 14,83% hat. Hingegen bei dem dritten Beispiel, wo alle Merkmale wieder vorhanden sind, aber die drei Merkmale \"S-Bahn\", \"Garage\" und \"Alter\" geändert wurden, hat die Bewohnerkategorie \"SingleHighIncome\" nur noch eine Wahrscheinlichkeit von 14,29%.\n",
    "\n",
    "### Potenzielle Erklärung\n",
    "Die Wahrscheinlichkeiten der Bewohnerkategorien sind durch die fehlenden Merkmale im zweiten Beispiel gesunken. Aber mit den gleichen Merkmalen wie im ersten Beispiel, jedoch mit anderen Werten, hat die Bewohnerkategorie \"SingleHighIncome\" eine geringere Wahrscheinlichkeit. Das könnte daran liegen, dass die Merkmale \"S-Bahn\", \"Garage\" und \"Alter\" eine höhere Gewichtung haben als die anderen Merkmale für die Bewohnerkategorie \"SingleHighIncome\". Die Änderung dieser Merkmale hat die Wahrscheinlichkeiten der Bewohnerkategorien beeinflusst und zeigt, wie das Bayes-Netz die Beziehungen zwischen den Merkmalen und den Bewohnerkategorien modelliert. Den hierbei war es wichtiger das die Merkmale lieber nicht vorhanden sind, als das sie vorhanden sind, mit veränderten Werten."
   ],
   "id": "e72ec285938df5d9"
  }
 ],
 "metadata": {
  "kernelspec": {
   "display_name": "Python 3",
   "language": "python",
   "name": "python3"
  },
  "language_info": {
   "codemirror_mode": {
    "name": "ipython",
    "version": 2
   },
   "file_extension": ".py",
   "mimetype": "text/x-python",
   "name": "python",
   "nbconvert_exporter": "python",
   "pygments_lexer": "ipython2",
   "version": "2.7.6"
  }
 },
 "nbformat": 4,
 "nbformat_minor": 5
}
