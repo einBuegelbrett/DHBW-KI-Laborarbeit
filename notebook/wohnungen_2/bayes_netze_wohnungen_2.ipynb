{
 "cells": [
  {
   "cell_type": "code",
   "id": "initial_id",
   "metadata": {
    "collapsed": true,
    "ExecuteTime": {
     "end_time": "2024-12-18T11:58:58.889234Z",
     "start_time": "2024-12-18T11:58:57.085100Z"
    }
   },
   "source": [
    "import pandas as pd\n",
    "from pgmpy.models import BayesianNetwork\n",
    "from pgmpy.estimators import MaximumLikelihoodEstimator\n",
    "from pgmpy.inference import VariableElimination\n",
    "from data_cleaning.data_cleaning import get_zimmer, get_stockwerk, get_kindergarten, get_schule, get_bahn, get_miete, get_nebenkosten, get_alter, get_kaution, get_stadtmitte, get_kueche, get_bad, get_mobliert, get_quadratmeter"
   ],
   "outputs": [
    {
     "name": "stderr",
     "output_type": "stream",
     "text": [
      "/home/sven/dev/DHBW-KI-Laborarbeit/.venv/lib/python3.12/site-packages/tqdm/auto.py:21: TqdmWarning: IProgress not found. Please update jupyter and ipywidgets. See https://ipywidgets.readthedocs.io/en/stable/user_install.html\n",
      "  from .autonotebook import tqdm as notebook_tqdm\n"
     ]
    }
   ],
   "execution_count": 2
  },
  {
   "metadata": {
    "ExecuteTime": {
     "end_time": "2024-12-18T11:59:00.337627Z",
     "start_time": "2024-12-18T11:59:00.312231Z"
    }
   },
   "cell_type": "code",
   "source": [
    "file_path = '../../data/Wohnungen_2.csv'\n",
    "data = pd.read_csv(file_path, sep=';')\n",
    "\n",
    "bewohnerkategorie = [\"Studierende\", \"Kleinfamilie\", \"DINK\", \"SingleHighIncome\", \"Expatriate\", \"Rentnerpaar\"]\n",
    "data['Bewohnerkategorie'] = data[bewohnerkategorie].apply(lambda row: 'Keine' if all(row == 'nein') else row.idxmax(), axis=1)\n",
    "\n",
    "data = data[data['Bewohnerkategorie'] != 'Keine']\n",
    "\n",
    "columns_to_replace = [\"Hausmeister\", \"Garage\", \"Aufzug\", \"Balkon\", \"Terrasse\", \"Kehrwoche\"]\n",
    "\n",
    "data[columns_to_replace] = data[columns_to_replace].replace({'nein': 0, 'ja': 1})\n",
    "\n",
    "data['Zimmerzahl'] = data['Zimmerzahl'].apply(get_zimmer)\n",
    "data['Stockwerk'] = data['Stockwerk'].apply(get_stockwerk)\n",
    "data['Kindergarten'] = data['Kindergarten'].apply(get_kindergarten)\n",
    "data['Schule'] = data['Schule'].apply(get_schule)\n",
    "data['S-Bahn'] = data['S-Bahn'].apply(get_bahn)\n",
    "data['Miete'] = data['Miete'].apply(get_miete)\n",
    "data['Nebenkosten'] = data['Nebenkosten'].apply(get_nebenkosten)\n",
    "data['Alter'] = data['Alter'].apply(get_alter)\n",
    "data['Entfernung zur Stadtmitte'] = data['Entfernung zur Stadtmitte'].apply(get_stadtmitte)\n",
    "data['Kaution'] = data['Kaution'].apply(get_kaution)\n",
    "data['Kueche'] = data['Kueche'].apply(get_kueche)\n",
    "data['Bad'] = data['Bad'].apply(get_bad)\n",
    "data['Moebliert'] = data['Moebliert'].apply(get_mobliert)\n",
    "data['Quadratmeter'] = data['Quadratmeter'].apply(get_quadratmeter)\n",
    "\n",
    "print(data.head())\n",
    "\n",
    "#Code Cleaning"
   ],
   "id": "4ea35ba660a90560",
   "outputs": [
    {
     "name": "stdout",
     "output_type": "stream",
     "text": [
      "    Zimmerzahl  Stockwerk  Hausmeister  Kindergarten  Schule  S-Bahn  Garage  \\\n",
      "3            0          3            1             2       0       0       0   \n",
      "4            2          4            0             1       2       0       0   \n",
      "6            2          1            0             2       2       3       0   \n",
      "7            2          0            0             2       2       3       1   \n",
      "16           0          4            0             0       2       2       1   \n",
      "\n",
      "    Miete  Nebenkosten  Alter  ...  Kehrwoche  Moebliert  Quadratmeter  \\\n",
      "3     276           50     63  ...          0          0            25   \n",
      "4     626          226     18  ...          0          0            96   \n",
      "6     626          226      6  ...          0          0            96   \n",
      "7     726          226      0  ...          0          0           106   \n",
      "16    276           75     26  ...          1          0            25   \n",
      "\n",
      "    Studierende  Kleinfamilie  DINK  SingleHighIncome  Expatriate  \\\n",
      "3            ja          nein  nein              nein        nein   \n",
      "4          nein            ja  nein              nein        nein   \n",
      "6          nein            ja  nein              nein        nein   \n",
      "7          nein            ja  nein              nein        nein   \n",
      "16           ja          nein  nein              nein        nein   \n",
      "\n",
      "    Rentnerpaar  Bewohnerkategorie  \n",
      "3          nein       Kleinfamilie  \n",
      "4          nein        Studierende  \n",
      "6          nein        Studierende  \n",
      "7          nein        Studierende  \n",
      "16         nein       Kleinfamilie  \n",
      "\n",
      "[5 rows x 27 columns]\n"
     ]
    },
    {
     "name": "stderr",
     "output_type": "stream",
     "text": [
      "/tmp/ipykernel_7248/3487156503.py:11: FutureWarning: Downcasting behavior in `replace` is deprecated and will be removed in a future version. To retain the old behavior, explicitly call `result.infer_objects(copy=False)`. To opt-in to the future behavior, set `pd.set_option('future.no_silent_downcasting', True)`\n",
      "  data[columns_to_replace] = data[columns_to_replace].replace({'nein': 0, 'ja': 1})\n"
     ]
    }
   ],
   "execution_count": 3
  },
  {
   "metadata": {
    "ExecuteTime": {
     "end_time": "2024-12-18T11:59:27.093688Z",
     "start_time": "2024-12-18T11:59:27.056082Z"
    }
   },
   "cell_type": "code",
   "source": [
    "#Data Processing and Training\n",
    "model = BayesianNetwork([\n",
    "    ('Zimmerzahl', 'Bewohnerkategorie'),\n",
    "    ('Stockwerk', 'Bewohnerkategorie'),\n",
    "    ('Hausmeister', 'Bewohnerkategorie'),\n",
    "    ('Kindergarten', 'Bewohnerkategorie'),\n",
    "    ('Schule', 'Bewohnerkategorie'),\n",
    "    ('S-Bahn', 'Bewohnerkategorie'),\n",
    "    ('Garage', 'Bewohnerkategorie'),\n",
    "    ('Miete', 'Bewohnerkategorie'),\n",
    "    ('Nebenkosten', 'Bewohnerkategorie'),\n",
    "    ('Alter', 'Bewohnerkategorie'),\n",
    "    ('Aufzug', 'Bewohnerkategorie'),\n",
    "    ('Entfernung zur Stadtmitte', 'Bewohnerkategorie'),\n",
    "    ('Kaution', 'Bewohnerkategorie'),\n",
    "    ('Kueche', 'Bewohnerkategorie'),\n",
    "    ('Bad', 'Bewohnerkategorie'),\n",
    "    ('Balkon', 'Bewohnerkategorie'),\n",
    "    ('Terrasse', 'Bewohnerkategorie'),\n",
    "    ('Kehrwoche', 'Bewohnerkategorie'),\n",
    "    ('Moebliert', 'Bewohnerkategorie'),\n",
    "    ('Quadratmeter', 'Bewohnerkategorie')\n",
    "])\n",
    "\n",
    "# Training des Bayes-Netzes\n",
    "model.fit(data, estimator=MaximumLikelihoodEstimator)"
   ],
   "id": "ce949f1c49b83677",
   "outputs": [],
   "execution_count": 4
  },
  {
   "metadata": {
    "ExecuteTime": {
     "end_time": "2024-12-18T12:00:00.487422Z",
     "start_time": "2024-12-18T12:00:00.475825Z"
    }
   },
   "cell_type": "code",
   "source": [
    "# Inferenz durchführen\n",
    "inference = VariableElimination(model)\n",
    "\n",
    "# Beispiel-Eingabe: Teilweise bekannte Daten\n",
    "example_input = {\n",
    "    \"Balkon\": 1,\n",
    "    \"Terrasse\": 2,\n",
    "}\n",
    "\n",
    "# Wahrscheinlichkeiten für jede Zielklasse berechnen\n",
    "prediction = inference.map_query(variables=[\"Bewohnerkategorie\"], evidence=example_input)\n",
    "\n",
    "\n",
    "print(\"Klassifikationsergebnis:\")\n",
    "print(prediction)"
   ],
   "id": "63be0eb644efb053",
   "outputs": [
    {
     "name": "stderr",
     "output_type": "stream",
     "text": [
      "WARNING:pgmpy:Found unknown state name. Trying to switch to using all state names as state numbers\n",
      "WARNING:pgmpy:Found unknown state name. Trying to switch to using all state names as state numbers\n",
      "WARNING:pgmpy:Found unknown state name. Trying to switch to using all state names as state numbers\n",
      "WARNING:pgmpy:Found unknown state name. Trying to switch to using all state names as state numbers\n",
      "Finding Elimination Order: : 100%|██████████| 3/3 [00:00<00:00, 6951.89it/s]\n",
      "Eliminating: Schule: 100%|██████████| 3/3 [00:00<00:00, 3694.34it/s]"
     ]
    },
    {
     "name": "stdout",
     "output_type": "stream",
     "text": [
      "Klassifikationsergebnis:\n",
      "{'Bewohnerkategorie': 'Kleinfamilie'}\n"
     ]
    },
    {
     "name": "stderr",
     "output_type": "stream",
     "text": [
      "\n"
     ]
    }
   ],
   "execution_count": 10
  }
 ],
 "metadata": {
  "kernelspec": {
   "display_name": "Python 3",
   "language": "python",
   "name": "python3"
  },
  "language_info": {
   "codemirror_mode": {
    "name": "ipython",
    "version": 2
   },
   "file_extension": ".py",
   "mimetype": "text/x-python",
   "name": "python",
   "nbconvert_exporter": "python",
   "pygments_lexer": "ipython2",
   "version": "2.7.6"
  }
 },
 "nbformat": 4,
 "nbformat_minor": 5
}
