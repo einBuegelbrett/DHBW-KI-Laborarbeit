{
 "cells": [
  {
   "metadata": {},
   "cell_type": "markdown",
   "source": [
    "# Bayes-Netz zur Klassifikation von Wohnungsbewohnerkategorien (Datensatz \"wohnungen_2.csv\")\n",
    "Dieses Notebook stellt ein Modell auf Basis eines Bayes'schen vor, das verwendet wird, um die Bewohnerkategorie einer Wohnung basierend auf den Merkmalen der Wohnung zu klassifizieren.\n",
    "\n",
    "## Ziel\n",
    "Das Ziel dieses Projekts ist es, die Zusammenhänge zwischen den Eigenschaften einer Wohnung und den Bewohnerkategorien zu modellieren. Wir verwenden ein Bayes-Netz, um Wahrscheinlichkeiten vorherzusagen, auch wenn einige Informationen unvollständig sind.\n",
    "\n",
    "---\n",
    "\n",
    "## Vorbereitung\n",
    "Zuerst werden die benötigten Bibliotheken importiert."
   ],
   "id": "19a959b878c01b87"
  },
  {
   "cell_type": "code",
   "id": "initial_id",
   "metadata": {
    "collapsed": true,
    "ExecuteTime": {
     "end_time": "2024-12-20T11:38:30.218787Z",
     "start_time": "2024-12-20T11:38:30.216064Z"
    }
   },
   "source": [
    "import pandas as pd\n",
    "from pgmpy.models import BayesianNetwork\n",
    "from pgmpy.estimators import MaximumLikelihoodEstimator\n",
    "from pgmpy.inference import VariableElimination\n",
    "from data_cleaning.text_to_numeric import get_zimmer, get_stockwerk, get_kindergarten, get_schule, get_bahn, get_miete, get_nebenkosten, get_alter, get_kaution, get_stadtmitte, get_kueche, get_bad, get_mobliert, get_quadratmeter, get_yes_no"
   ],
   "outputs": [],
   "execution_count": 8
  },
  {
   "metadata": {
    "ExecuteTime": {
     "end_time": "2024-12-20T11:38:31.647933Z",
     "start_time": "2024-12-20T11:38:31.621461Z"
    }
   },
   "cell_type": "code",
   "source": [
    "file_path = '../../data/Wohnungen_2.csv'\n",
    "data = pd.read_csv(file_path, sep=';')\n",
    "\n",
    "bewohnerkategorie = ['Studierende', 'Kleinfamilie', 'DINK', 'SingleHighIncome', 'Expatriate', 'Rentnerpaar']\n",
    "data['Bewohnerkategorie'] = data[bewohnerkategorie].apply(\n",
    "    lambda row: 'Keine' if all(row == 'nein') else ', '.join(row[row == 'ja'].index), axis=1)\n",
    "\n",
    "data = data[data['Bewohnerkategorie'] != 'Keine']\n",
    "\n",
    "columns_to_replace = [\"Hausmeister\", \"Garage\", \"Aufzug\", \"Balkon\", \"Terrasse\", \"Kehrwoche\"]\n",
    "\n",
    "pd.set_option('future.no_silent_downcasting', True)\n",
    "data[columns_to_replace] = data[columns_to_replace].replace({'nein': 0, 'ja': 1})\n",
    "\n",
    "data['Zimmerzahl'] = data['Zimmerzahl'].apply(get_zimmer)\n",
    "data['Stockwerk'] = data['Stockwerk'].apply(get_stockwerk)\n",
    "data['Kindergarten'] = data['Kindergarten'].apply(get_kindergarten)\n",
    "data['Schule'] = data['Schule'].apply(get_schule)\n",
    "data['S-Bahn'] = data['S-Bahn'].apply(get_bahn)\n",
    "data['Miete'] = data['Miete'].apply(get_miete)\n",
    "data['Nebenkosten'] = data['Nebenkosten'].apply(get_nebenkosten)\n",
    "data['Alter'] = data['Alter'].apply(get_alter)\n",
    "data['Entfernung zur Stadtmitte'] = data['Entfernung zur Stadtmitte'].apply(get_stadtmitte)\n",
    "data['Kaution'] = data['Kaution'].apply(get_kaution)\n",
    "data['Kueche'] = data['Kueche'].apply(get_kueche)\n",
    "data['Bad'] = data['Bad'].apply(get_bad)\n",
    "data['Moebliert'] = data['Moebliert'].apply(get_mobliert)\n",
    "data['Quadratmeter'] = data['Quadratmeter'].apply(get_quadratmeter)\n",
    "\n",
    "print(data.head())"
   ],
   "id": "4ea35ba660a90560",
   "outputs": [],
   "execution_count": 9
  },
  {
   "metadata": {
    "ExecuteTime": {
     "end_time": "2024-12-20T12:53:36.148432Z",
     "start_time": "2024-12-20T12:53:13.018007Z"
    }
   },
   "cell_type": "code",
   "source": [
    "#Data Processing and Training\n",
    "model = BayesianNetwork([\n",
    "    ('Hausmeister', 'Bewohnerkategorie'),\n",
    "    ('Kindergarten', 'Bewohnerkategorie'),\n",
    "    ('S-Bahn', 'Bewohnerkategorie'),\n",
    "    ('Garage', 'Bewohnerkategorie'),\n",
    "    ('Alter', 'Bewohnerkategorie'),\n",
    "    ('Aufzug', 'Bewohnerkategorie'),\n",
    "    ('Entfernung zur Stadtmitte', 'Bewohnerkategorie'),\n",
    "    ('Moebliert', 'Bewohnerkategorie'),\n",
    "    ('Quadratmeter', 'Bewohnerkategorie')\n",
    "])\n",
    "\n",
    "# Training des Bayes'schen-Netzes\n",
    "model.fit(data, estimator=MaximumLikelihoodEstimator)\n",
    "# Inferenz durchführen\n",
    "inference = VariableElimination(model)\n"
   ],
   "id": "ce949f1c49b83677",
   "outputs": [],
   "execution_count": 20
  },
  {
   "metadata": {},
   "cell_type": "markdown",
   "source": [
    "### Beispiel - SingleHighIncome\n",
    "Wir vergleichen die Ergebnisse des Modells anhand der Beispiele \"example_single_high_income\", \"example_single_high_income2\", \"example_single_high_income3\". Hierbei wollen wir einmal ein Vergleich darstellen mit den Daten wo die Bewohnerkategorie \"SingleHighIncome\", Ja gesagt hat."
   ],
   "id": "10b2d82edfeacba0"
  },
  {
   "metadata": {
    "ExecuteTime": {
     "end_time": "2024-12-20T12:53:49.876568Z",
     "start_time": "2024-12-20T12:53:49.871388Z"
    }
   },
   "cell_type": "code",
   "source": [
    "#Example Input with get methods from data_cleaning.text_to_numeric\n",
    "example_single_high_income = {\n",
    "    \"Hausmeister\": get_yes_no(\"nein\"),\n",
    "    \"Kindergarten\": get_kindergarten(\"erreichbar\"),\n",
    "    \"S-Bahn\": get_bahn(\"nein\"),\n",
    "    \"Garage\": get_yes_no(\"ja\"),\n",
    "    \"Alter\": get_alter(\"ueber 100\"),\n",
    "    \"Aufzug\": get_yes_no(\"nein\"),\n",
    "    \"Entfernung zur Stadtmitte\": get_stadtmitte(\">30km\"),\n",
    "    \"Moebliert\": get_mobliert(\"nein\"),\n",
    "    \"Quadratmeter\": get_stadtmitte(\"71-80\")\n",
    "}\n",
    "\n",
    "# Wahrscheinlichkeiten für jede Zielklasse berechnen\n",
    "prediction = inference.query(variables=[\"Bewohnerkategorie\"], evidence=example_single_high_income)\n",
    "\n",
    "# Wahrscheinlichkeiten in ein Dictionary umwandeln\n",
    "result = {str(state): float(prob) for state, prob in zip(prediction.state_names[\"Bewohnerkategorie\"], prediction.values)}\n",
    "\n",
    "print(\"Wahrscheinlichkeiten für jede Bewohnerkategorie:\")\n",
    "for category, probability in result.items():\n",
    "    print(f\"{category}: {probability:.2%}\")"
   ],
   "id": "63be0eb644efb053",
   "outputs": [
    {
     "name": "stdout",
     "output_type": "stream",
     "text": [
      "Wahrscheinlichkeiten für jede Bewohnerkategorie:\n",
      "DINK: 14.29%\n",
      "Expatriate: 14.29%\n",
      "Kleinfamilie: 14.29%\n",
      "Kleinfamilie, DINK: 14.29%\n",
      "SingleHighIncome: 14.29%\n",
      "Studierende: 14.29%\n",
      "Studierende, Rentnerpaar: 14.29%\n"
     ]
    }
   ],
   "execution_count": 21
  },
  {
   "metadata": {},
   "cell_type": "code",
   "source": [
    "example_single_high_income2 = {\n",
    "    \"Hausmeister\": get_yes_no(\"nein\"),\n",
    "    \"Kindergarten\": get_kindergarten(\"erreichbar\"),\n",
    "    \"Aufzug\": get_yes_no(\"nein\"),\n",
    "    \"Entfernung zur Stadtmitte\": get_stadtmitte(\">30km\"),\n",
    "    \"Moebliert\": get_mobliert(\"nein\"),\n",
    "    \"Quadratmeter\": get_stadtmitte(\"71-80\")\n",
    "}\n",
    "prediction = inference.query(variables=[\"Bewohnerkategorie\"], evidence=example_single_high_income2)\n",
    "\n",
    "result = {str(state): float(prob) for state, prob in zip(prediction.state_names[\"Bewohnerkategorie\"], prediction.values)}\n",
    "\n",
    "print(\"Wahrscheinlichkeiten für jede Bewohnerkategorie:\")\n",
    "for category, probability in result.items():\n",
    "    print(f\"{category}: {probability:.2%}\")"
   ],
   "id": "28560398f783bf28",
   "outputs": [],
   "execution_count": null
  },
  {
   "metadata": {},
   "cell_type": "code",
   "source": [
    "example_single_high_income3 = {\n",
    "    \"Hausmeister\": get_yes_no(\"nein\"),\n",
    "    \"Kindergarten\": get_kindergarten(\"erreichbar\"),\n",
    "    \"S-Bahn\": get_bahn(\"erreichbar\"),\n",
    "    \"Garage\": get_yes_no(\"nein\"),\n",
    "    \"Alter\": get_alter(\"51-75\"),\n",
    "    \"Aufzug\": get_yes_no(\"ja\"),\n",
    "    \"Entfernung zur Stadtmitte\": get_stadtmitte(\">30km\"),\n",
    "    \"Moebliert\": get_mobliert(\"nein\"),\n",
    "    \"Quadratmeter\": get_stadtmitte(\"71-80\")\n",
    "}\n",
    "\n",
    "prediction = inference.query(variables=[\"Bewohnerkategorie\"], evidence=example_single_high_income3)\n",
    "\n",
    "result = {str(state): float(prob) for state, prob in zip(prediction.state_names[\"Bewohnerkategorie\"], prediction.values)}\n",
    "\n",
    "print(\"Wahrscheinlichkeiten für jede Bewohnerkategorie:\")\n",
    "for category, probability in result.items():\n",
    "    print(f\"{category}: {probability:.2%}\")"
   ],
   "id": "6c73f4962603b9c9",
   "outputs": [],
   "execution_count": null
  },
  {
   "metadata": {},
   "cell_type": "markdown",
   "source": [
    "### Auswertung der Ergebnisse\n",
    "Wie zu erwarten war, hat das erste Beispiel eine 100% Wahrscheinlichkeit für die Bewohnerkategorie \"SingleHighIncome\" ergeben. Das Zweite Beispiel hingegen hatte trotz drei gelöschter Wohnungskategorien, noch immer die Höchste Wahrscheinlichkeit für die Bewohnerkategorie \"SingleHighIncome\" hat. Mit der Änderung das \"SingleHighIncome\" nur noch eine Wahrscheinlichkeit von 14,83% hat. Hingegen bei dem dritten Beispiel, wo alle Merkmale wieder vorhanden sind, aber die drei Merkmale \"S-Bahn\", \"Garage\" und \"Alter\" geändert wurden, hat die Bewohnerkategorie \"SingleHighIncome\" nur noch eine Wahrscheinlichkeit von 14,29%.\n",
    "\n",
    "### Potenzielle Erklärung\n",
    "Die Wahrscheinlichkeiten der Bewohnerkategorien sind durch die fehlenden Merkmale im zweiten Beispiel gesunken. Aber mit den gleichen Merkmalen wie im ersten Beispiel, jedoch mit anderen Werten, hat die Bewohnerkategorie \"SingleHighIncome\" eine geringere Wahrscheinlichkeit. Das könnte daran liegen, dass die Merkmale \"S-Bahn\", \"Garage\" und \"Alter\" eine höhere Gewichtung haben als die anderen Merkmale für die Bewohnerkategorie \"SingleHighIncome\". Die Änderung dieser Merkmale hat die Wahrscheinlichkeiten der Bewohnerkategorien beeinflusst und zeigt, wie das Bayes'sche Netz die Beziehungen zwischen den Merkmalen und den Bewohnerkategorien modelliert. Den hierbei war es wichtiger das die Merkmale lieber nicht vorhanden sind, als das sie vorhanden sind, mit veränderten Werten."
   ],
   "id": "e72ec285938df5d9"
  }
 ],
 "metadata": {
  "kernelspec": {
   "display_name": "Python 3",
   "language": "python",
   "name": "python3"
  },
  "language_info": {
   "codemirror_mode": {
    "name": "ipython",
    "version": 2
   },
   "file_extension": ".py",
   "mimetype": "text/x-python",
   "name": "python",
   "nbconvert_exporter": "python",
   "pygments_lexer": "ipython2",
   "version": "2.7.6"
  }
 },
 "nbformat": 4,
 "nbformat_minor": 5
}
