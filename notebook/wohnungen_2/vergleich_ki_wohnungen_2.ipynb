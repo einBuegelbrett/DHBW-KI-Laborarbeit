{
 "cells": [
  {
   "metadata": {},
   "cell_type": "markdown",
   "source": [
    "# Vergleich des Bayes Netz und der Evidenztheorie für Datensatz `ẁohnungen_2.csv`\n",
    "\n",
    "## Datensatz erklärung\n",
    "### Beschreibung\n",
    "der datensatz unterscheidet sich folgend zum ersten:\n",
    "- die bewohnerkategorien sind geringfügig unterschiedlich\n",
    "- die spalten sind geringfügig unterschiedlich\n",
    "### Auffälligkeiten bei dem Datensatz\n",
    "**Viele Nichtsaussagende Zeilen**:\n",
    "Wie im ersten Datensatz gibt es auch hier viele Zeilen, die keine Informationen über die Bewohnerkategorie enthalten, da alle Werte auf \"nein\" gesetzt sind. Diese Zeilen wurden entfernt, da diese keine Informationen für das Modell enthalten. Hierbei wurden von Ursprünglich 501 Zeilen nurnoch 74 Zeilen übrig gelassen.\n",
    "| Kategorie         | Anzahl |\n",
    "|--------------------|--------|\n",
    "| Kleinfamilie       | 41     |\n",
    "| Studierende        | 19     |\n",
    "| DINK               | 11     |\n",
    "| SingleHighIncome   | 1      |\n",
    "| Expatriate         | 2      |\n",
    "| Rentnerpaar        | 0      |\n",
    "\n",
    "Insgesamte Zeilen pro Kategorie, selbst mit zwei \"Ja's\" Pro Kategorie\n",
    "\n",
    "| Kategorie         | Anzahl |\n",
    "|--------------------|--------|\n",
    "| Kleinfamilie       | 41     |\n",
    "| Studierende        | 19     |\n",
    "| DINK               | 12     |\n",
    "| SingleHighIncome   | 1      |\n",
    "| Expatriate         | 2      |\n",
    "| Rentnerpaar        | 3      |\n",
    "\n",
    "**Unausgeglichene Klassen**:\n",
    "Wie in Datensatz 1 sind hier die Bewohnerkategorien sehr stark unausgegliechen, was zur potenziellen Verzerrungen führen kann. Im Gegensatz zum ersten Datensatzes gibt es aber diesmal mehr \"Kleinfamilien\", aber diesmal auch nur eine \"leere\" Bewohnerkategorie. Hierbei ist nur das \"Rentnerpaar\", als einziger ohne eine dedizierte Reihe, da hier die Alleinerziehende, welches zuvor auch eine \"leere\" Bewohnerkategorie war ohne dedizierte Reihe, wurde ersetzt durch die SingleHighIncome, welche mit einer einzelnen Reihe vertreten ist.\n",
    "\n",
    "**Korrelationen**: Wie in Datensatz 1 können auch hier Korrelationen stattfinden, auch mit der neuen Wohnungskategorie \"Entfernung zur Stadtmitte\" und \"S-Bahn\"\n",
    "\n",
    "**Fehlende Werte**: Der Datensatz enthält keine fehlenden Werte, was die Vorverarbeitung erleichtert"
   ],
   "id": "b500983935d9fb09"
  },
  {
   "metadata": {},
   "cell_type": "code",
   "outputs": [],
   "execution_count": null,
   "source": "",
   "id": "bc86af99a4466d9a"
  }
 ],
 "metadata": {
  "kernelspec": {
   "display_name": "Python 3",
   "language": "python",
   "name": "python3"
  },
  "language_info": {
   "codemirror_mode": {
    "name": "ipython",
    "version": 2
   },
   "file_extension": ".py",
   "mimetype": "text/x-python",
   "name": "python",
   "nbconvert_exporter": "python",
   "pygments_lexer": "ipython2",
   "version": "2.7.6"
  }
 },
 "nbformat": 4,
 "nbformat_minor": 5
}
